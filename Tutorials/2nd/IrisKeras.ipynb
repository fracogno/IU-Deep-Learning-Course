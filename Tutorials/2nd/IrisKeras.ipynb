{
 "cells": [
  {
   "cell_type": "markdown",
   "metadata": {},
   "source": [
    "# A Simple Network in Keras\n",
    "\n",
    "TensorFlow provides a wealth of functions to develop complex mathematical and machine learning programs.\n",
    "In a sense, it is a powerful library for matrix (or tensor) manipulation with support for automatic\n",
    "differentiation of functions.\n",
    "\n",
    "However, using these more fundamental building blocks to develop complex deep neural networks is quite cumbersome.\n",
    "To ease development and allow to focus on the actual machine learning model, TensorFlow supports a \n",
    "high level interfaces:\n",
    "   * Keras\n",
    "\n",
    "The Keras API allows us to define, train, and use a deep neural network with a compact syntax.\n",
    "The main steps are:\n",
    "\n",
    "* define the model\n",
    "* compile the model\n",
    "* start the training with ```model.fit(...)```\n",
    "* get the predictions with ```model.predict(...)```\n",
    "\n",
    "\n",
    "This example will use the popular \"Iris\" dataset.\n",
    "\n",
    "The [Iris dataset](http://scikit-learn.org/stable/auto_examples/datasets/plot_iris_dataset.html) was [originally introduced](http://en.wikipedia.org/wiki/Iris_flower_data_set) by Sir Robert Fisher in 1936 as an example for discriminant analysis.\n",
    "The data focus on how to discriminate between three different types of the [iris flower](http://en.wikipedia.org/wiki/Iris_(plant):\n",
    "\n",
    "* Setosa, \n",
    "* Versicolour and\n",
    "* Virginica\n",
    "\n",
    "Each row in the dataset contains the following features (measured in cm):\n",
    "\n",
    "* Sepal Length, \n",
    "* Sepal Width, \n",
    "* Petal Length and \n",
    "* Petal Width.\n",
    "\n",
    "The labels (true values) are mapped as integers in $[0,1,2]$ for the three different flower types.\n",
    "\n",
    "As this is a popular dataset, it is contained in various machine learning packages.\n",
    "Here we use the data from the [SciKit-Learn](https://scikit-learn.org/stable/) machine learning suite."
   ]
  },
  {
   "cell_type": "code",
   "execution_count": 1,
   "metadata": {},
   "outputs": [
    {
     "name": "stderr",
     "output_type": "stream",
     "text": [
      "2023-01-17 22:34:56.404294: I tensorflow/core/platform/cpu_feature_guard.cc:193] This TensorFlow binary is optimized with oneAPI Deep Neural Network Library (oneDNN) to use the following CPU instructions in performance-critical operations:  AVX2 FMA\n",
      "To enable them in other operations, rebuild TensorFlow with the appropriate compiler flags.\n",
      "2023-01-17 22:34:57.341985: W tensorflow/compiler/xla/stream_executor/platform/default/dso_loader.cc:64] Could not load dynamic library 'libnvinfer.so.7'; dlerror: libnvinfer.so.7: cannot open shared object file: No such file or directory; LD_LIBRARY_PATH: /home/francesco/Downloads/cuda/lib64:/usr/local/cuda-11.2/lib64\n",
      "2023-01-17 22:34:57.342075: W tensorflow/compiler/xla/stream_executor/platform/default/dso_loader.cc:64] Could not load dynamic library 'libnvinfer_plugin.so.7'; dlerror: libnvinfer_plugin.so.7: cannot open shared object file: No such file or directory; LD_LIBRARY_PATH: /home/francesco/Downloads/cuda/lib64:/usr/local/cuda-11.2/lib64\n",
      "2023-01-17 22:34:57.342085: W tensorflow/compiler/tf2tensorrt/utils/py_utils.cc:38] TF-TRT Warning: Cannot dlopen some TensorRT libraries. If you would like to use Nvidia GPU with TensorRT, please make sure the missing libraries mentioned above are installed properly.\n"
     ]
    },
    {
     "name": "stdout",
     "output_type": "stream",
     "text": [
      "Populating the interactive namespace from numpy and matplotlib\n",
      "2.11.0\n"
     ]
    }
   ],
   "source": [
    "import numpy as np\n",
    "import pandas as pd\n",
    "import matplotlib.pyplot as plt\n",
    "import tensorflow as tf\n",
    "from sklearn.datasets import load_iris\n",
    "from sklearn.metrics import confusion_matrix\n",
    "\n",
    "%pylab inline\n",
    "# large figures\n",
    "rcParams['figure.figsize'] = 8, 6\n",
    "print(tf.__version__)"
   ]
  },
  {
   "cell_type": "markdown",
   "metadata": {},
   "source": [
    "As this is a popular training dataset, a convenient load function is provided to access it."
   ]
  },
  {
   "cell_type": "code",
   "execution_count": 2,
   "metadata": {},
   "outputs": [],
   "source": [
    "iris = load_iris()"
   ]
  },
  {
   "cell_type": "markdown",
   "metadata": {},
   "source": [
    "### Building a Network in Keras\n",
    "\n",
    "In this example we will use a very simple neural network.\n",
    "The input layer has 4 nodes, correspondingn to the 4 feature variables in each row of the dataset.\n",
    "The output layer has 3 nodes, corresponding to the 3 types of iris flowers we want to identify.\n",
    "\n",
    "We then use two hidden layers with 10 nodes each - we could also use different settings, e.g. only one layer or more than two layers with different numbers of hidden nodes. The best setup depends on the problem we wish to analyse.\n",
    "\n",
    "The main way to build models in Keras is to \"stack\" layers on top of each other, this is\n",
    "done in the ```tf.keras.Sequential()``` model.\n",
    "\n",
    "We will use ReLU as an activation function.\n",
    "Note that we have specified the shape in the first network layer so the model knows what to expect\n",
    "when we pass the data to it."
   ]
  },
  {
   "cell_type": "code",
   "execution_count": 3,
   "metadata": {},
   "outputs": [
    {
     "name": "stderr",
     "output_type": "stream",
     "text": [
      "2023-01-17 22:34:58.615632: I tensorflow/compiler/xla/stream_executor/cuda/cuda_gpu_executor.cc:981] successful NUMA node read from SysFS had negative value (-1), but there must be at least one NUMA node, so returning NUMA node zero\n",
      "2023-01-17 22:34:58.624858: I tensorflow/compiler/xla/stream_executor/cuda/cuda_gpu_executor.cc:981] successful NUMA node read from SysFS had negative value (-1), but there must be at least one NUMA node, so returning NUMA node zero\n",
      "2023-01-17 22:34:58.625269: I tensorflow/compiler/xla/stream_executor/cuda/cuda_gpu_executor.cc:981] successful NUMA node read from SysFS had negative value (-1), but there must be at least one NUMA node, so returning NUMA node zero\n"
     ]
    },
    {
     "name": "stdout",
     "output_type": "stream",
     "text": [
      "Model: \"sequential\"\n",
      "_________________________________________________________________\n",
      " Layer (type)                Output Shape              Param #   \n",
      "=================================================================\n",
      " dense (Dense)               (None, 10)                50        \n",
      "                                                                 \n",
      " dense_1 (Dense)             (None, 10)                110       \n",
      "                                                                 \n",
      " dense_2 (Dense)             (None, 3)                 33        \n",
      "                                                                 \n",
      "=================================================================\n",
      "Total params: 193\n",
      "Trainable params: 193\n",
      "Non-trainable params: 0\n",
      "_________________________________________________________________\n"
     ]
    },
    {
     "name": "stderr",
     "output_type": "stream",
     "text": [
      "2023-01-17 22:34:58.626876: I tensorflow/core/platform/cpu_feature_guard.cc:193] This TensorFlow binary is optimized with oneAPI Deep Neural Network Library (oneDNN) to use the following CPU instructions in performance-critical operations:  AVX2 FMA\n",
      "To enable them in other operations, rebuild TensorFlow with the appropriate compiler flags.\n",
      "2023-01-17 22:34:58.627811: I tensorflow/compiler/xla/stream_executor/cuda/cuda_gpu_executor.cc:981] successful NUMA node read from SysFS had negative value (-1), but there must be at least one NUMA node, so returning NUMA node zero\n",
      "2023-01-17 22:34:58.628199: I tensorflow/compiler/xla/stream_executor/cuda/cuda_gpu_executor.cc:981] successful NUMA node read from SysFS had negative value (-1), but there must be at least one NUMA node, so returning NUMA node zero\n",
      "2023-01-17 22:34:58.628541: I tensorflow/compiler/xla/stream_executor/cuda/cuda_gpu_executor.cc:981] successful NUMA node read from SysFS had negative value (-1), but there must be at least one NUMA node, so returning NUMA node zero\n",
      "2023-01-17 22:34:59.241146: I tensorflow/compiler/xla/stream_executor/cuda/cuda_gpu_executor.cc:981] successful NUMA node read from SysFS had negative value (-1), but there must be at least one NUMA node, so returning NUMA node zero\n",
      "2023-01-17 22:34:59.241448: I tensorflow/compiler/xla/stream_executor/cuda/cuda_gpu_executor.cc:981] successful NUMA node read from SysFS had negative value (-1), but there must be at least one NUMA node, so returning NUMA node zero\n",
      "2023-01-17 22:34:59.241676: I tensorflow/compiler/xla/stream_executor/cuda/cuda_gpu_executor.cc:981] successful NUMA node read from SysFS had negative value (-1), but there must be at least one NUMA node, so returning NUMA node zero\n",
      "2023-01-17 22:34:59.241862: I tensorflow/core/common_runtime/gpu/gpu_device.cc:1613] Created device /job:localhost/replica:0/task:0/device:GPU:0 with 427 MB memory:  -> device: 0, name: NVIDIA GeForce GTX 1650 Ti, pci bus id: 0000:01:00.0, compute capability: 7.5\n"
     ]
    }
   ],
   "source": [
    "n_input = 4\n",
    "n_output = 3\n",
    "model = tf.keras.Sequential()\n",
    "model.add(tf.keras.layers.Dense(10, activation=tf.nn.relu, input_shape=(n_input,)))\n",
    "model.add(tf.keras.layers.Dense(10, activation=tf.nn.relu))\n",
    "model.add(tf.keras.layers.Dense(n_output))\n",
    "model.summary()"
   ]
  },
  {
   "cell_type": "markdown",
   "metadata": {},
   "source": [
    "We can also get a graphical representation of the model with its dependencies:\n",
    "\n",
    "(note: this requires that the ```graphviz``` package is installed on the Linux system)"
   ]
  },
  {
   "cell_type": "code",
   "execution_count": 4,
   "metadata": {},
   "outputs": [
    {
     "data": {
      "image/png": "[encoded data removed]",
      "text/plain": [
       "<IPython.core.display.Image object>"
      ]
     },
     "execution_count": 4,
     "metadata": {},
     "output_type": "execute_result"
    }
   ],
   "source": [
    "tf.keras.utils.plot_model(model, 'model.png',show_shapes=True)"
   ]
  },
  {
   "cell_type": "markdown",
   "metadata": {},
   "source": [
    "Before we use the model we need to specify which optimizer and loss function the training process should use and which metrics should be evaluated.\n",
    "\n",
    "The key concept behind Keras is that these details are determined beforehand when the model is \"compiled\" so that the training loop knows about them.\n",
    "\n",
    "We need to define the following things:\n",
    "* The loss function: This determines how the training process should evaluate whether the prediction made by the model is correct or not. As we have categorical data (three types of iris flowers) which we wish to classify, we use the [sparse categorical cross entropy](https://www.tensorflow.org/api_docs/python/tf/keras/losses/SparseCategoricalCrossentropy)\n",
    "* The optimizer. Several choices exist, as a good practice, the Adam Optimizer (see the [paper](https://arxiv.org/abs/1412.6980)\n",
    "and the [documentation](https://www.tensorflow.org/api_docs/python/tf/keras/optimizers/Adam) for more details) is a good starting point\n"
   ]
  },
  {
   "cell_type": "code",
   "execution_count": 5,
   "metadata": {},
   "outputs": [],
   "source": [
    "model.compile(\n",
    "    optimizer = tf.keras.optimizers.Adam(learning_rate=0.01),\n",
    "    loss = tf.keras.losses.SparseCategoricalCrossentropy(from_logits=True),\n",
    "    metrics = [tf.keras.metrics.SparseCategoricalAccuracy()]\n",
    ")"
   ]
  },
  {
   "cell_type": "markdown",
   "metadata": {},
   "source": [
    "The training process is then started by calling the ```fit``` method.\n",
    "That's it - the convenience function ```fit``` hides all details for us.\n",
    "The fit function returns a history object from which we can retrieve various training metrics."
   ]
  },
  {
   "cell_type": "code",
   "execution_count": 6,
   "metadata": {
    "scrolled": false
   },
   "outputs": [
    {
     "name": "stdout",
     "output_type": "stream",
     "text": [
      "Epoch 1/50\n"
     ]
    },
    {
     "name": "stderr",
     "output_type": "stream",
     "text": [
      "2023-01-17 22:35:00.785219: I tensorflow/compiler/xla/service/service.cc:173] XLA service 0x1d9cd810 initialized for platform CUDA (this does not guarantee that XLA will be used). Devices:\n",
      "2023-01-17 22:35:00.785257: I tensorflow/compiler/xla/service/service.cc:181]   StreamExecutor device (0): NVIDIA GeForce GTX 1650 Ti, Compute Capability 7.5\n",
      "2023-01-17 22:35:00.791165: I tensorflow/compiler/mlir/tensorflow/utils/dump_mlir_util.cc:268] disabling MLIR crash reproducer, set env var `MLIR_CRASH_REPRODUCER_DIRECTORY` to enable.\n",
      "2023-01-17 22:35:00.955774: I tensorflow/compiler/jit/xla_compilation_cache.cc:477] Compiled cluster using XLA!  This line is logged at most once for the lifetime of the process.\n"
     ]
    },
    {
     "name": "stdout",
     "output_type": "stream",
     "text": [
      "5/5 [==============================] - 2s 5ms/step - loss: 1.5353 - sparse_categorical_accuracy: 0.6667\n",
      "Epoch 2/50\n",
      "5/5 [==============================] - 0s 4ms/step - loss: 0.9111 - sparse_categorical_accuracy: 0.6733\n",
      "Epoch 3/50\n",
      "5/5 [==============================] - 0s 4ms/step - loss: 0.7223 - sparse_categorical_accuracy: 0.8667\n",
      "Epoch 4/50\n",
      "5/5 [==============================] - 0s 4ms/step - loss: 0.6001 - sparse_categorical_accuracy: 0.7600\n",
      "Epoch 5/50\n",
      "5/5 [==============================] - 0s 3ms/step - loss: 0.5076 - sparse_categorical_accuracy: 0.8267\n",
      "Epoch 6/50\n",
      "5/5 [==============================] - 0s 3ms/step - loss: 0.4540 - sparse_categorical_accuracy: 0.9533\n",
      "Epoch 7/50\n",
      "5/5 [==============================] - 0s 4ms/step - loss: 0.3860 - sparse_categorical_accuracy: 0.9133\n",
      "Epoch 8/50\n",
      "5/5 [==============================] - 0s 4ms/step - loss: 0.3386 - sparse_categorical_accuracy: 0.9733\n",
      "Epoch 9/50\n",
      "5/5 [==============================] - 0s 3ms/step - loss: 0.3037 - sparse_categorical_accuracy: 0.9800\n",
      "Epoch 10/50\n",
      "5/5 [==============================] - 0s 3ms/step - loss: 0.2698 - sparse_categorical_accuracy: 0.9800\n",
      "Epoch 11/50\n",
      "5/5 [==============================] - 0s 4ms/step - loss: 0.2409 - sparse_categorical_accuracy: 0.9533\n",
      "Epoch 12/50\n",
      "5/5 [==============================] - 0s 4ms/step - loss: 0.2120 - sparse_categorical_accuracy: 0.9667\n",
      "Epoch 13/50\n",
      "5/5 [==============================] - 0s 4ms/step - loss: 0.1971 - sparse_categorical_accuracy: 0.9533\n",
      "Epoch 14/50\n",
      "5/5 [==============================] - 0s 4ms/step - loss: 0.1763 - sparse_categorical_accuracy: 0.9467\n",
      "Epoch 15/50\n",
      "5/5 [==============================] - 0s 4ms/step - loss: 0.1604 - sparse_categorical_accuracy: 0.9533\n",
      "Epoch 16/50\n",
      "5/5 [==============================] - 0s 4ms/step - loss: 0.1440 - sparse_categorical_accuracy: 0.9867\n",
      "Epoch 17/50\n",
      "5/5 [==============================] - 0s 4ms/step - loss: 0.1521 - sparse_categorical_accuracy: 0.9733\n",
      "Epoch 18/50\n",
      "5/5 [==============================] - 0s 4ms/step - loss: 0.1344 - sparse_categorical_accuracy: 0.9600\n",
      "Epoch 19/50\n",
      "5/5 [==============================] - 0s 4ms/step - loss: 0.1215 - sparse_categorical_accuracy: 0.9667\n",
      "Epoch 20/50\n",
      "5/5 [==============================] - 0s 4ms/step - loss: 0.1236 - sparse_categorical_accuracy: 0.9667\n",
      "Epoch 21/50\n",
      "5/5 [==============================] - 0s 4ms/step - loss: 0.1195 - sparse_categorical_accuracy: 0.9667\n",
      "Epoch 22/50\n",
      "5/5 [==============================] - 0s 4ms/step - loss: 0.1317 - sparse_categorical_accuracy: 0.9533\n",
      "Epoch 23/50\n",
      "5/5 [==============================] - 0s 4ms/step - loss: 0.1757 - sparse_categorical_accuracy: 0.9067\n",
      "Epoch 24/50\n",
      "5/5 [==============================] - 0s 4ms/step - loss: 0.1596 - sparse_categorical_accuracy: 0.9533\n",
      "Epoch 25/50\n",
      "5/5 [==============================] - 0s 4ms/step - loss: 0.0950 - sparse_categorical_accuracy: 0.9800\n",
      "Epoch 26/50\n",
      "5/5 [==============================] - 0s 4ms/step - loss: 0.0895 - sparse_categorical_accuracy: 0.9800\n",
      "Epoch 27/50\n",
      "5/5 [==============================] - 0s 3ms/step - loss: 0.0908 - sparse_categorical_accuracy: 0.9667\n",
      "Epoch 28/50\n",
      "5/5 [==============================] - 0s 4ms/step - loss: 0.0902 - sparse_categorical_accuracy: 0.9800\n",
      "Epoch 29/50\n",
      "5/5 [==============================] - 0s 4ms/step - loss: 0.0832 - sparse_categorical_accuracy: 0.9867\n",
      "Epoch 30/50\n",
      "5/5 [==============================] - 0s 4ms/step - loss: 0.0808 - sparse_categorical_accuracy: 0.9800\n",
      "Epoch 31/50\n",
      "5/5 [==============================] - 0s 4ms/step - loss: 0.0794 - sparse_categorical_accuracy: 0.9800\n",
      "Epoch 32/50\n",
      "5/5 [==============================] - 0s 4ms/step - loss: 0.0813 - sparse_categorical_accuracy: 0.9733\n",
      "Epoch 33/50\n",
      "5/5 [==============================] - 0s 3ms/step - loss: 0.0823 - sparse_categorical_accuracy: 0.9800\n",
      "Epoch 34/50\n",
      "5/5 [==============================] - 0s 3ms/step - loss: 0.0751 - sparse_categorical_accuracy: 0.9867\n",
      "Epoch 35/50\n",
      "5/5 [==============================] - 0s 4ms/step - loss: 0.0796 - sparse_categorical_accuracy: 0.9800\n",
      "Epoch 36/50\n",
      "5/5 [==============================] - 0s 4ms/step - loss: 0.0768 - sparse_categorical_accuracy: 0.9867\n",
      "Epoch 37/50\n",
      "5/5 [==============================] - 0s 4ms/step - loss: 0.0748 - sparse_categorical_accuracy: 0.9800\n",
      "Epoch 38/50\n",
      "5/5 [==============================] - 0s 4ms/step - loss: 0.0755 - sparse_categorical_accuracy: 0.9800\n",
      "Epoch 39/50\n",
      "5/5 [==============================] - 0s 4ms/step - loss: 0.0736 - sparse_categorical_accuracy: 0.9800\n",
      "Epoch 40/50\n",
      "5/5 [==============================] - 0s 4ms/step - loss: 0.0772 - sparse_categorical_accuracy: 0.9667\n",
      "Epoch 41/50\n",
      "5/5 [==============================] - 0s 3ms/step - loss: 0.0835 - sparse_categorical_accuracy: 0.9733\n",
      "Epoch 42/50\n",
      "5/5 [==============================] - 0s 4ms/step - loss: 0.0746 - sparse_categorical_accuracy: 0.9667\n",
      "Epoch 43/50\n",
      "5/5 [==============================] - 0s 4ms/step - loss: 0.0728 - sparse_categorical_accuracy: 0.9800\n",
      "Epoch 44/50\n",
      "5/5 [==============================] - 0s 4ms/step - loss: 0.0919 - sparse_categorical_accuracy: 0.9467\n",
      "Epoch 45/50\n",
      "5/5 [==============================] - 0s 4ms/step - loss: 0.0982 - sparse_categorical_accuracy: 0.9533\n",
      "Epoch 46/50\n",
      "5/5 [==============================] - 0s 4ms/step - loss: 0.0916 - sparse_categorical_accuracy: 0.9667\n",
      "Epoch 47/50\n",
      "5/5 [==============================] - 0s 4ms/step - loss: 0.0985 - sparse_categorical_accuracy: 0.9600\n",
      "Epoch 48/50\n",
      "5/5 [==============================] - 0s 4ms/step - loss: 0.0713 - sparse_categorical_accuracy: 0.9667\n",
      "Epoch 49/50\n",
      "5/5 [==============================] - 0s 4ms/step - loss: 0.0827 - sparse_categorical_accuracy: 0.9600\n",
      "Epoch 50/50\n",
      "5/5 [==============================] - 0s 3ms/step - loss: 0.0696 - sparse_categorical_accuracy: 0.9800\n"
     ]
    }
   ],
   "source": [
    "history = model.fit(\n",
    "        x=iris.data,\n",
    "        y=iris.target,\n",
    "        batch_size=32,\n",
    "        epochs=50,\n",
    "        verbose=1\n",
    "    )"
   ]
  },
  {
   "cell_type": "code",
   "execution_count": 7,
   "metadata": {},
   "outputs": [
    {
     "data": {
      "image/png": "[encoded data removed]",
      "text/plain": [
       "<Figure size 576x432 with 2 Axes>"
      ]
     },
     "metadata": {
      "needs_background": "light"
     },
     "output_type": "display_data"
    }
   ],
   "source": [
    "history_dict = history.history\n",
    "history_dict.keys()\n",
    "loss_values = history_dict['loss']\n",
    "acc_values = history_dict['sparse_categorical_accuracy']\n",
    "epochs = range(1, len(loss_values) + 1)\n",
    "\n",
    "fig, axes = plt.subplots(2, sharex=True)\n",
    "axes[0].set_ylabel(\"Loss\", fontsize=14)\n",
    "axes[0].plot(loss_values)\n",
    "axes[1].set_ylabel(\"Accuracy\", fontsize=14)\n",
    "axes[1].set_xlabel(\"Iteration\", fontsize=14)\n",
    "axes[1].plot(acc_values)\n",
    "plt.show()\n"
   ]
  },
  {
   "cell_type": "markdown",
   "metadata": {},
   "source": [
    "As we can see, the network does not improve much beyond training epoch 15 or so and reaches a plateau of approximately 98% accuracy.\n",
    "We can then use the ```predict()``` method to feed data to the trained model and obtain predictions for future or unknown data.\n",
    "\n",
    "(As this is small dataset, we have not split between training and test data and, thus, also use the training data for \n",
    "evaluation. In a real project we would of course not do that...)"
   ]
  },
  {
   "cell_type": "code",
   "execution_count": 8,
   "metadata": {},
   "outputs": [
    {
     "name": "stdout",
     "output_type": "stream",
     "text": [
      "5/5 [==============================] - 0s 2ms/step\n"
     ]
    }
   ],
   "source": [
    "predictions=model.predict(iris.data)"
   ]
  },
  {
   "cell_type": "markdown",
   "metadata": {},
   "source": [
    "Remember that we have three output nodes, each corresponding to one of the three label types (i.e. types of iris flowers).\n",
    "We assign the predicted class as the one where the node in the output layer has the highest value.\n",
    "\n",
    "\n",
    "For example, the first data point is:"
   ]
  },
  {
   "cell_type": "code",
   "execution_count": 9,
   "metadata": {},
   "outputs": [
    {
     "name": "stdout",
     "output_type": "stream",
     "text": [
      "[  6.934799     0.48015887 -19.908718  ]\n"
     ]
    }
   ],
   "source": [
    "print(predictions[0])"
   ]
  },
  {
   "cell_type": "markdown",
   "metadata": {},
   "source": [
    "and the first node has the highest value. Hence we use '0' as the predicted label."
   ]
  },
  {
   "cell_type": "code",
   "execution_count": 10,
   "metadata": {},
   "outputs": [
    {
     "name": "stdout",
     "output_type": "stream",
     "text": [
      "Prediction: [0 0 0 0 0 0 0 0 0 0 0 0 0 0 0 0 0 0 0 0 0 0 0 0 0 0 0 0 0 0 0 0 0 0 0 0 0\n",
      " 0 0 0 0 0 0 0 0 0 0 0 0 0 1 1 1 1 1 1 1 1 1 1 1 1 1 1 1 1 1 1 1 1 1 1 1 1\n",
      " 1 1 1 1 1 1 1 1 1 2 1 1 1 1 1 1 1 1 1 1 1 1 1 1 1 1 2 2 2 2 2 2 2 2 2 2 2\n",
      " 2 2 2 2 2 2 2 2 2 2 2 2 2 2 2 2 2 2 2 2 2 2 1 2 2 2 2 1 2 2 2 2 2 2 2 2 2\n",
      " 2 2]\n",
      "    Labels: [0 0 0 0 0 0 0 0 0 0 0 0 0 0 0 0 0 0 0 0 0 0 0 0 0 0 0 0 0 0 0 0 0 0 0 0 0\n",
      " 0 0 0 0 0 0 0 0 0 0 0 0 0 1 1 1 1 1 1 1 1 1 1 1 1 1 1 1 1 1 1 1 1 1 1 1 1\n",
      " 1 1 1 1 1 1 1 1 1 1 1 1 1 1 1 1 1 1 1 1 1 1 1 1 1 1 2 2 2 2 2 2 2 2 2 2 2\n",
      " 2 2 2 2 2 2 2 2 2 2 2 2 2 2 2 2 2 2 2 2 2 2 2 2 2 2 2 2 2 2 2 2 2 2 2 2 2\n",
      " 2 2]\n"
     ]
    }
   ],
   "source": [
    "predicted_labels = tf.argmax(predictions, axis=1)\n",
    "print(\"Prediction: {}\".format(predicted_labels))\n",
    "print(\"    Labels: {}\".format(iris.target))"
   ]
  },
  {
   "cell_type": "markdown",
   "metadata": {},
   "source": [
    "Since the dataset is so small, we can go through each prediction manually.\n",
    "However, it is much easier to look at the confusion matrix, comparing\n",
    "true and predicted labels."
   ]
  },
  {
   "cell_type": "code",
   "execution_count": 11,
   "metadata": {},
   "outputs": [
    {
     "name": "stdout",
     "output_type": "stream",
     "text": [
      "[[50  0  0]\n",
      " [ 0 49  1]\n",
      " [ 0  2 48]]\n"
     ]
    },
    {
     "data": {
      "image/png": "[encoded data removed]",
      "text/plain": [
       "<Figure size 432x432 with 2 Axes>"
      ]
     },
     "metadata": {
      "needs_background": "light"
     },
     "output_type": "display_data"
    }
   ],
   "source": [
    "# Compute confusion matrix\n",
    "cm = confusion_matrix(iris.target,predicted_labels)\n",
    "\n",
    "print(cm)\n",
    "\n",
    "# Show confusion matrix \n",
    "plt.matshow(cm, cmap='seismic')\n",
    "plt.title('Confusion matrix')\n",
    "plt.colorbar()\n",
    "plt.ylabel('True label')\n",
    "plt.xlabel('Predicted label')\n",
    "plt.show()"
   ]
  },
  {
   "cell_type": "code",
   "execution_count": null,
   "metadata": {},
   "outputs": [],
   "source": []
  }
 ],
 "metadata": {
  "kernelspec": {
   "display_name": "Python 3 (ipykernel)",
   "language": "python",
   "name": "python3"
  },
  "language_info": {
   "codemirror_mode": {
    "name": "ipython",
    "version": 3
   },
   "file_extension": ".py",
   "mimetype": "text/x-python",
   "name": "python",
   "nbconvert_exporter": "python",
   "pygments_lexer": "ipython3",
   "version": "3.8.10"
  }
 },
 "nbformat": 4,
 "nbformat_minor": 4
}

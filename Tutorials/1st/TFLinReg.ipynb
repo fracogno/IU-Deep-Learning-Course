{
 "cells": [
  {
   "cell_type": "markdown",
   "metadata": {
    "colab_type": "text",
    "id": "J1yR4w0JR1G3"
   },
   "source": [
    "# Linear Regression in TensorFlow\n",
    "\n",
    "Although TensorFlow is primarily used to build deep neural networks, \n",
    "we can use it as a library to solve mathematical or statistical problems\n",
    "as well.\n",
    "\n",
    "We use the example of linear regression to illustrate how TensorFlow\n",
    "can be used as a \"general purpose tool\".\n",
    "\n",
    "In this example we will determine the free parameters $m$ and $b$ of a simple\n",
    "linear regression line given by $y = m\\cdot x + b$.\n",
    "\n",
    "We will also generate some toy data according to the above model and add some random  Gaussian noise."
   ]
  },
  {
   "cell_type": "code",
   "execution_count": 1,
   "metadata": {
    "colab": {},
    "colab_type": "code",
    "id": "hoDXRpGWR1G6",
    "outputId": "922479c6-712b-423f-d1e7-c1a3f337864f"
   },
   "outputs": [
    {
     "name": "stderr",
     "output_type": "stream",
     "text": [
      "2023-01-10 19:22:38.993796: I tensorflow/core/platform/cpu_feature_guard.cc:193] This TensorFlow binary is optimized with oneAPI Deep Neural Network Library (oneDNN) to use the following CPU instructions in performance-critical operations:  AVX2 FMA\n",
      "To enable them in other operations, rebuild TensorFlow with the appropriate compiler flags.\n",
      "2023-01-10 19:22:39.554831: W tensorflow/compiler/xla/stream_executor/platform/default/dso_loader.cc:64] Could not load dynamic library 'libnvinfer.so.7'; dlerror: libnvinfer.so.7: cannot open shared object file: No such file or directory; LD_LIBRARY_PATH: /home/francesco/Downloads/cuda/lib64:/usr/local/cuda-11.2/lib64\n",
      "2023-01-10 19:22:39.554893: W tensorflow/compiler/xla/stream_executor/platform/default/dso_loader.cc:64] Could not load dynamic library 'libnvinfer_plugin.so.7'; dlerror: libnvinfer_plugin.so.7: cannot open shared object file: No such file or directory; LD_LIBRARY_PATH: /home/francesco/Downloads/cuda/lib64:/usr/local/cuda-11.2/lib64\n",
      "2023-01-10 19:22:39.554898: W tensorflow/compiler/tf2tensorrt/utils/py_utils.cc:38] TF-TRT Warning: Cannot dlopen some TensorRT libraries. If you would like to use Nvidia GPU with TensorRT, please make sure the missing libraries mentioned above are installed properly.\n"
     ]
    },
    {
     "name": "stdout",
     "output_type": "stream",
     "text": [
      "Populating the interactive namespace from numpy and matplotlib\n",
      "2.11.0\n"
     ]
    }
   ],
   "source": [
    "# imports\n",
    "import numpy as np\n",
    "import matplotlib.pyplot as plt\n",
    "import tensorflow as tf\n",
    "\n",
    "%pylab inline\n",
    "# large figures\n",
    "rcParams['figure.figsize'] = 8, 6\n",
    "\n",
    "print(tf.__version__)"
   ]
  },
  {
   "cell_type": "markdown",
   "metadata": {
    "colab_type": "text",
    "id": "CCBn0JvSR1HH"
   },
   "source": [
    "## Generate Example Data\n",
    "\n",
    "We use the same model we will fit to the data to illustrate the main approach and add some random noise.\n",
    "\n",
    "Instead of using the normal distribution from numpy or other libraries, we use the one from TensorFlow.\n"
   ]
  },
  {
   "cell_type": "code",
   "execution_count": 2,
   "metadata": {
    "colab": {},
    "colab_type": "code",
    "id": "kCPtlTPlR1HI",
    "outputId": "51fdfc7d-2adc-4efa-f4b1-684da7f2b2d5"
   },
   "outputs": [
    {
     "name": "stderr",
     "output_type": "stream",
     "text": [
      "2023-01-10 19:22:40.393703: I tensorflow/compiler/xla/stream_executor/cuda/cuda_gpu_executor.cc:981] successful NUMA node read from SysFS had negative value (-1), but there must be at least one NUMA node, so returning NUMA node zero\n",
      "2023-01-10 19:22:40.403423: I tensorflow/compiler/xla/stream_executor/cuda/cuda_gpu_executor.cc:981] successful NUMA node read from SysFS had negative value (-1), but there must be at least one NUMA node, so returning NUMA node zero\n",
      "2023-01-10 19:22:40.403842: I tensorflow/compiler/xla/stream_executor/cuda/cuda_gpu_executor.cc:981] successful NUMA node read from SysFS had negative value (-1), but there must be at least one NUMA node, so returning NUMA node zero\n",
      "2023-01-10 19:22:40.404858: I tensorflow/core/platform/cpu_feature_guard.cc:193] This TensorFlow binary is optimized with oneAPI Deep Neural Network Library (oneDNN) to use the following CPU instructions in performance-critical operations:  AVX2 FMA\n",
      "To enable them in other operations, rebuild TensorFlow with the appropriate compiler flags.\n",
      "2023-01-10 19:22:40.405486: I tensorflow/compiler/xla/stream_executor/cuda/cuda_gpu_executor.cc:981] successful NUMA node read from SysFS had negative value (-1), but there must be at least one NUMA node, so returning NUMA node zero\n",
      "2023-01-10 19:22:40.405883: I tensorflow/compiler/xla/stream_executor/cuda/cuda_gpu_executor.cc:981] successful NUMA node read from SysFS had negative value (-1), but there must be at least one NUMA node, so returning NUMA node zero\n",
      "2023-01-10 19:22:40.406246: I tensorflow/compiler/xla/stream_executor/cuda/cuda_gpu_executor.cc:981] successful NUMA node read from SysFS had negative value (-1), but there must be at least one NUMA node, so returning NUMA node zero\n",
      "2023-01-10 19:22:40.794970: I tensorflow/compiler/xla/stream_executor/cuda/cuda_gpu_executor.cc:981] successful NUMA node read from SysFS had negative value (-1), but there must be at least one NUMA node, so returning NUMA node zero\n",
      "2023-01-10 19:22:40.795193: I tensorflow/compiler/xla/stream_executor/cuda/cuda_gpu_executor.cc:981] successful NUMA node read from SysFS had negative value (-1), but there must be at least one NUMA node, so returning NUMA node zero\n",
      "2023-01-10 19:22:40.795369: I tensorflow/compiler/xla/stream_executor/cuda/cuda_gpu_executor.cc:981] successful NUMA node read from SysFS had negative value (-1), but there must be at least one NUMA node, so returning NUMA node zero\n",
      "2023-01-10 19:22:40.795529: I tensorflow/core/common_runtime/gpu/gpu_device.cc:1613] Created device /job:localhost/replica:0/task:0/device:GPU:0 with 2207 MB memory:  -> device: 0, name: NVIDIA GeForce GTX 1650 Ti, pci bus id: 0000:01:00.0, compute capability: 7.5\n"
     ]
    },
    {
     "data": {
      "image/png": "[encoded data removed]",
      "text/plain": [
       "<Figure size 576x432 with 1 Axes>"
      ]
     },
     "metadata": {
      "needs_background": "light"
     },
     "output_type": "display_data"
    }
   ],
   "source": [
    "n_samples = 2000\n",
    "true_slope = 1.0\n",
    "offset = 0.0\n",
    "\n",
    "#generate some x_values using a standard Gaussian\n",
    "x_data = tf.random.normal([n_samples])\n",
    "noise = tf.random.normal([n_samples])\n",
    "y_data = true_slope * x_data + offset + noise\n",
    "\n",
    "\n",
    "#show the generated sample\n",
    "plt.scatter(x_data,y_data)\n",
    "plt.show()"
   ]
  },
  {
   "cell_type": "markdown",
   "metadata": {
    "colab_type": "text",
    "id": "BgIzUAbkR1HQ"
   },
   "source": [
    "## Linear Regression\n",
    "\n",
    "We now define the model we are going to fit $y = m\\cdot x + b$. $x$ is the independent variable, $y$ the dependent.\n",
    "The model has two free parameters $m$ and $b$ which we treat as variables.\n",
    "We initialize each variable with a random number drawn from a standard normal distribution."
   ]
  },
  {
   "cell_type": "code",
   "execution_count": 3,
   "metadata": {
    "colab": {},
    "colab_type": "code",
    "id": "sWFLVRu-R1HS"
   },
   "outputs": [],
   "source": [
    "m = tf.Variable(tf.random.normal([1]))\n",
    "b = tf.Variable(tf.random.normal([1]))"
   ]
  },
  {
   "cell_type": "markdown",
   "metadata": {
    "colab_type": "text",
    "id": "YIVHEMFDR1HY"
   },
   "source": [
    "We fit the model using gradient descent which is essentially an optimization problem following the slope\n",
    "of the gradient of a loss function. We need to define which method we want to use to follow\n",
    "the gradient. Several choices exist, as a good practice, the Adam optimizer (see the [paper](https://arxiv.org/abs/1412.6980)\n",
    "and the [documentation](https://www.tensorflow.org/api_docs/python/tf/keras/optimizers/Adam) for more details) is a good starting point"
   ]
  },
  {
   "cell_type": "code",
   "execution_count": 4,
   "metadata": {
    "colab": {},
    "colab_type": "code",
    "id": "AuZVM-oKR1HZ"
   },
   "outputs": [],
   "source": [
    "optimizer = tf.keras.optimizers.Adam(learning_rate=0.01)"
   ]
  },
  {
   "cell_type": "markdown",
   "metadata": {
    "colab_type": "text",
    "id": "GB3xlMV0R1Hg"
   },
   "source": [
    "We now need to define the optimization procedure.\n",
    "Essentially, we define a loss function and then compute the gradient and follow the gradient\n",
    "until we reach a viable minimum.\n",
    "\n",
    "We use the mean squared error as loss function: $$MSE = \\sum_{i=1}^{N} (y_i - \\hat{y}_i)^2$$\n",
    "where $y_i$ are the true values and $\\hat{y}_i$ are the predictions with the current parameter values.\n",
    "\n",
    "We can use TensorFlow's ```GradientTape``` method to automatically compute the gradient of the loss\n",
    "function.\n",
    "The \"Gradient\" refers to the functionality of computing the gradient, and the \"Tape\" indicates that the operations and results\n",
    "are recorded so that we can access them later.\n",
    "\n",
    "The gradient itself is computed via a call to the ```gradient``` method - higher order derivatives can be obtained by subsequent\n",
    "calls to this method. \n",
    "In order to compute the gradient of the loss function, we pass the current value of the loss function\n",
    "as well as all (trainable) variables of the model, in our case the slope $m$ and the intercept $b$.\n",
    "\n",
    "We then need to pass the computed gradient to the optimizer so that the optimizer can change the variable values accordingly."
   ]
  },
  {
   "cell_type": "code",
   "execution_count": 5,
   "metadata": {
    "colab": {},
    "colab_type": "code",
    "id": "SVSAuxIDR1Hh",
    "outputId": "bf8f4330-ca53-418d-dd3b-c33fe02d33b9"
   },
   "outputs": [
    {
     "name": "stderr",
     "output_type": "stream",
     "text": [
      "2023-01-10 19:22:40.986980: I tensorflow/compiler/xla/service/service.cc:173] XLA service 0x1cd68eb0 initialized for platform CUDA (this does not guarantee that XLA will be used). Devices:\n",
      "2023-01-10 19:22:40.986999: I tensorflow/compiler/xla/service/service.cc:181]   StreamExecutor device (0): NVIDIA GeForce GTX 1650 Ti, Compute Capability 7.5\n",
      "2023-01-10 19:22:40.990932: I tensorflow/compiler/mlir/tensorflow/utils/dump_mlir_util.cc:268] disabling MLIR crash reproducer, set env var `MLIR_CRASH_REPRODUCER_DIRECTORY` to enable.\n",
      "2023-01-10 19:22:41.087793: I tensorflow/compiler/jit/xla_compilation_cache.cc:477] Compiled cluster using XLA!  This line is logged at most once for the lifetime of the process.\n"
     ]
    },
    {
     "name": "stdout",
     "output_type": "stream",
     "text": [
      "Step 000, loss: 15.512\n",
      "Step 050, loss: 11.621\n",
      "Step 100, loss: 8.764\n",
      "Step 150, loss: 6.571\n",
      "Step 200, loss: 4.896\n",
      "Step 250, loss: 3.650\n",
      "Step 300, loss: 2.750\n",
      "Step 350, loss: 2.119\n",
      "Step 400, loss: 1.691\n",
      "Step 450, loss: 1.410\n",
      "Final loss: 1.236\n",
      "Final values: m=[0.5093796], b = [0.03258461]\n"
     ]
    }
   ],
   "source": [
    "loss_values = []\n",
    "steps = []\n",
    "for i in range(500):\n",
    "    with tf.GradientTape() as tape:\n",
    "        y = m*x_data + b\n",
    "        loss = tf.reduce_mean(tf.square(y - y_data))\n",
    "        grad = tape.gradient(loss,[m,b])\n",
    "    optimizer.apply_gradients(zip(grad, [m,b]))\n",
    "    \n",
    "    #save the loss values for later visualisation\n",
    "    loss_values.append(loss)\n",
    "    steps.append(i)\n",
    "    if i%50 ==0:\n",
    "        print(\"Step {:03d}, loss: {:.3f}\".format(i,loss.numpy()))\n",
    "\n",
    "print(\"Final loss: {:.3f}\".format(loss.numpy()))\n",
    "print(\"Final values: m={}, b = {}\".format(m.numpy(), b.numpy()))"
   ]
  },
  {
   "cell_type": "code",
   "execution_count": 6,
   "metadata": {
    "colab": {},
    "colab_type": "code",
    "id": "f5AW0hgnR1Hk",
    "outputId": "147dd9f4-3d63-4245-fccb-a61480386023"
   },
   "outputs": [
    {
     "data": {
      "image/png": "[encoded data removed]",
      "text/plain": [
       "<Figure size 576x432 with 1 Axes>"
      ]
     },
     "metadata": {
      "needs_background": "light"
     },
     "output_type": "display_data"
    }
   ],
   "source": [
    "# Visualize the results\n",
    "plt.plot(np.asarray(steps), loss_values, 'b', label=\"avg training error\")\n",
    "plt.legend(loc=\"upper right\")\n",
    "#plt.yscale('log')\n",
    "plt.xlabel('step')\n",
    "plt.ylabel('MSE')\n",
    "plt.show()"
   ]
  },
  {
   "cell_type": "markdown",
   "metadata": {
    "colab_type": "text",
    "id": "DEGgASTXR1H0"
   },
   "source": [
    "# Results\n",
    "\n",
    "We now compare the fitted model with the data and the original function we used to create the dataset:\n",
    "\n"
   ]
  },
  {
   "cell_type": "code",
   "execution_count": 7,
   "metadata": {
    "colab": {},
    "colab_type": "code",
    "id": "l-gJ8b5cR1H1",
    "outputId": "4699ffbd-4089-4add-e393-8033260aeebd"
   },
   "outputs": [
    {
     "data": {
      "image/png": "[encoded data removed]",
      "text/plain": [
       "<Figure size 576x432 with 1 Axes>"
      ]
     },
     "metadata": {
      "needs_background": "light"
     },
     "output_type": "display_data"
    }
   ],
   "source": [
    "y_true  = true_slope*x_data + offset\n",
    "y_pred  = m*x_data + b\n",
    "\n",
    "plt.scatter(x_data,y_data)\n",
    "plt.plot(x_data, y_pred, label='Fit')\n",
    "plt.plot(x_data, y_true, label='Truth')\n",
    "plt.legend()\n",
    "plt.show()"
   ]
  },
  {
   "cell_type": "markdown",
   "metadata": {
    "colab_type": "text",
    "id": "5auMsax1R1H7"
   },
   "source": [
    "# Improve the Code\n",
    "\n",
    "The above model was very simple and we could \"just\" hard-code it in the training loop.\n",
    "However, models can become quite complex very quickly, and it's better to disentangle training and model as much as possible.\n",
    "\n",
    "In the next step, we define a simple class to define the model, as well as a function which defines the loss function we're going to optimize.\n",
    "In this simple example, it doesn't aid much to understand what is happening, but it's easy to imagine how this can \n",
    "change with more complex models.\n",
    "Hence, it's good practice to separate model, optimization settings and the actual training loop as much as possible."
   ]
  },
  {
   "cell_type": "code",
   "execution_count": 8,
   "metadata": {
    "colab": {},
    "colab_type": "code",
    "id": "sZFjWuDHR1H9"
   },
   "outputs": [],
   "source": [
    "class Model(tf.keras.Model):\n",
    "    def __init__(self):\n",
    "        super(Model, self).__init__()\n",
    "        self.m = tf.Variable(tf.random.normal([1]))\n",
    "        self.b = tf.Variable(tf.random.normal([1]))\n",
    "    \n",
    "    def call(self, x):\n",
    "        return self.m*x+self.b\n"
   ]
  },
  {
   "cell_type": "markdown",
   "metadata": {
    "colab_type": "text",
    "id": "xD0mMtYSR1H_"
   },
   "source": [
    "Then, the code for the training loop becomes more compact and readable - and also easier to maintain and more general."
   ]
  },
  {
   "cell_type": "code",
   "execution_count": 10,
   "metadata": {
    "colab": {},
    "colab_type": "code",
    "id": "OOdx2Ml3R1IA",
    "outputId": "2e47d85c-3d18-4c18-ae02-99d3c0401822",
    "scrolled": false
   },
   "outputs": [
    {
     "name": "stdout",
     "output_type": "stream",
     "text": [
      "Model: \"model_1\"\n",
      "_________________________________________________________________\n",
      " Layer (type)                Output Shape              Param #   \n",
      "=================================================================\n",
      "=================================================================\n",
      "Total params: 2\n",
      "Trainable params: 2\n",
      "Non-trainable params: 0\n",
      "_________________________________________________________________\n",
      "Final loss: 0.003\n",
      "Final values: m=[0.50540143], b = [0.08789751]\n"
     ]
    }
   ],
   "source": [
    "model = Model()\n",
    "\n",
    "model.build(x_data.shape)\n",
    "model.summary()\n",
    "optimizer = tf.keras.optimizers.Adam(learning_rate=0.01)\n",
    "\n",
    "for i in range(500):\n",
    "    with tf.GradientTape() as tape:\n",
    "        pred = model(x_data)\n",
    "        loss = tf.reduce_mean(tf.square(pred - y))\n",
    "\n",
    "    gradients = tape.gradient(loss, model.trainable_variables)\n",
    "    optimizer.apply_gradients(zip(gradients, model.trainable_variables))\n",
    "\n",
    "print(\"Final loss: {:.3f}\".format(loss.numpy()))\n",
    "print(\"Final values: m={}, b = {}\".format(model.m.numpy(), model.b.numpy()))"
   ]
  },
  {
   "cell_type": "code",
   "execution_count": null,
   "metadata": {
    "colab": {},
    "colab_type": "code",
    "id": "9Piz6pZIR1ID"
   },
   "outputs": [],
   "source": []
  }
 ],
 "metadata": {
  "colab": {
   "name": "TFLinReg.ipynb",
   "provenance": []
  },
  "kernelspec": {
   "display_name": "Python 3 (ipykernel)",
   "language": "python",
   "name": "python3"
  },
  "language_info": {
   "codemirror_mode": {
    "name": "ipython",
    "version": 3
   },
   "file_extension": ".py",
   "mimetype": "text/x-python",
   "name": "python",
   "nbconvert_exporter": "python",
   "pygments_lexer": "ipython3",
   "version": "3.8.10"
  }
 },
 "nbformat": 4,
 "nbformat_minor": 1
}

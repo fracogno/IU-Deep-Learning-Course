{
 "cells": [
  {
   "cell_type": "code",
   "execution_count": 1,
   "id": "f10cf694",
   "metadata": {},
   "outputs": [
    {
     "name": "stderr",
     "output_type": "stream",
     "text": [
      "2023-02-28 15:43:04.249732: I tensorflow/core/platform/cpu_feature_guard.cc:193] This TensorFlow binary is optimized with oneAPI Deep Neural Network Library (oneDNN) to use the following CPU instructions in performance-critical operations:  AVX2 FMA\n",
      "To enable them in other operations, rebuild TensorFlow with the appropriate compiler flags.\n",
      "2023-02-28 15:43:05.224191: W tensorflow/compiler/xla/stream_executor/platform/default/dso_loader.cc:64] Could not load dynamic library 'libnvinfer.so.7'; dlerror: libnvinfer.so.7: cannot open shared object file: No such file or directory; LD_LIBRARY_PATH: /home/francesco/Downloads/cuda/lib64:/usr/local/cuda-11.2/lib64\n",
      "2023-02-28 15:43:05.224262: W tensorflow/compiler/xla/stream_executor/platform/default/dso_loader.cc:64] Could not load dynamic library 'libnvinfer_plugin.so.7'; dlerror: libnvinfer_plugin.so.7: cannot open shared object file: No such file or directory; LD_LIBRARY_PATH: /home/francesco/Downloads/cuda/lib64:/usr/local/cuda-11.2/lib64\n",
      "2023-02-28 15:43:05.224271: W tensorflow/compiler/tf2tensorrt/utils/py_utils.cc:38] TF-TRT Warning: Cannot dlopen some TensorRT libraries. If you would like to use Nvidia GPU with TensorRT, please make sure the missing libraries mentioned above are installed properly.\n"
     ]
    }
   ],
   "source": [
    "import tensorflow as tf\n",
    "import matplotlib.pyplot as plt"
   ]
  },
  {
   "cell_type": "markdown",
   "id": "ab0ebfcb",
   "metadata": {},
   "source": [
    "### Load data "
   ]
  },
  {
   "cell_type": "code",
   "execution_count": 2,
   "id": "c6114ae4",
   "metadata": {},
   "outputs": [
    {
     "name": "stdout",
     "output_type": "stream",
     "text": [
      "(50000, 32, 32, 3) (50000, 1)\n",
      "(10000, 32, 32, 3) (10000, 1)\n"
     ]
    }
   ],
   "source": [
    "(X_train, Y_train), (X_test, Y_test) = tf.keras.datasets.cifar10.load_data()\n",
    "print(X_train.shape, Y_train.shape)\n",
    "print(X_test.shape, Y_test.shape)"
   ]
  },
  {
   "cell_type": "markdown",
   "id": "8bd4eb55",
   "metadata": {},
   "source": [
    "### Display sample"
   ]
  },
  {
   "cell_type": "code",
   "execution_count": 3,
   "id": "22e288ed",
   "metadata": {},
   "outputs": [
    {
     "name": "stdout",
     "output_type": "stream",
     "text": [
      "[8]\n"
     ]
    },
    {
     "data": {
      "image/png": "[encoded data removed]",
      "text/plain": [
       "<Figure size 432x288 with 1 Axes>"
      ]
     },
     "metadata": {
      "needs_background": "light"
     },
     "output_type": "display_data"
    }
   ],
   "source": [
    "index = 100\n",
    "plt.imshow(X_train[index])\n",
    "print(Y_train[index])"
   ]
  },
  {
   "cell_type": "markdown",
   "id": "a7fa5857",
   "metadata": {},
   "source": [
    "### Load layer to preprocess inputs"
   ]
  },
  {
   "cell_type": "code",
   "execution_count": 4,
   "id": "71d87beb",
   "metadata": {},
   "outputs": [],
   "source": [
    "preprocess_input = tf.keras.applications.vgg16.preprocess_input"
   ]
  },
  {
   "cell_type": "markdown",
   "id": "e6c76515",
   "metadata": {},
   "source": [
    "### Load pretrained network without final part"
   ]
  },
  {
   "cell_type": "code",
   "execution_count": 5,
   "id": "61f3d30e",
   "metadata": {
    "scrolled": false
   },
   "outputs": [
    {
     "name": "stderr",
     "output_type": "stream",
     "text": [
      "2023-02-28 15:43:08.417404: I tensorflow/compiler/xla/stream_executor/cuda/cuda_gpu_executor.cc:981] successful NUMA node read from SysFS had negative value (-1), but there must be at least one NUMA node, so returning NUMA node zero\n",
      "2023-02-28 15:43:08.422576: I tensorflow/compiler/xla/stream_executor/cuda/cuda_gpu_executor.cc:981] successful NUMA node read from SysFS had negative value (-1), but there must be at least one NUMA node, so returning NUMA node zero\n",
      "2023-02-28 15:43:08.422918: I tensorflow/compiler/xla/stream_executor/cuda/cuda_gpu_executor.cc:981] successful NUMA node read from SysFS had negative value (-1), but there must be at least one NUMA node, so returning NUMA node zero\n",
      "2023-02-28 15:43:08.423620: I tensorflow/core/platform/cpu_feature_guard.cc:193] This TensorFlow binary is optimized with oneAPI Deep Neural Network Library (oneDNN) to use the following CPU instructions in performance-critical operations:  AVX2 FMA\n",
      "To enable them in other operations, rebuild TensorFlow with the appropriate compiler flags.\n",
      "2023-02-28 15:43:08.424082: I tensorflow/compiler/xla/stream_executor/cuda/cuda_gpu_executor.cc:981] successful NUMA node read from SysFS had negative value (-1), but there must be at least one NUMA node, so returning NUMA node zero\n",
      "2023-02-28 15:43:08.424384: I tensorflow/compiler/xla/stream_executor/cuda/cuda_gpu_executor.cc:981] successful NUMA node read from SysFS had negative value (-1), but there must be at least one NUMA node, so returning NUMA node zero\n",
      "2023-02-28 15:43:08.424667: I tensorflow/compiler/xla/stream_executor/cuda/cuda_gpu_executor.cc:981] successful NUMA node read from SysFS had negative value (-1), but there must be at least one NUMA node, so returning NUMA node zero\n",
      "2023-02-28 15:43:09.000642: I tensorflow/compiler/xla/stream_executor/cuda/cuda_gpu_executor.cc:981] successful NUMA node read from SysFS had negative value (-1), but there must be at least one NUMA node, so returning NUMA node zero\n",
      "2023-02-28 15:43:09.001001: I tensorflow/compiler/xla/stream_executor/cuda/cuda_gpu_executor.cc:981] successful NUMA node read from SysFS had negative value (-1), but there must be at least one NUMA node, so returning NUMA node zero\n",
      "2023-02-28 15:43:09.001286: I tensorflow/compiler/xla/stream_executor/cuda/cuda_gpu_executor.cc:981] successful NUMA node read from SysFS had negative value (-1), but there must be at least one NUMA node, so returning NUMA node zero\n",
      "2023-02-28 15:43:09.001544: I tensorflow/core/common_runtime/gpu/gpu_device.cc:1613] Created device /job:localhost/replica:0/task:0/device:GPU:0 with 2199 MB memory:  -> device: 0, name: NVIDIA GeForce GTX 1650 Ti, pci bus id: 0000:01:00.0, compute capability: 7.5\n"
     ]
    },
    {
     "name": "stdout",
     "output_type": "stream",
     "text": [
      "Model: \"vgg16\"\n",
      "_________________________________________________________________\n",
      " Layer (type)                Output Shape              Param #   \n",
      "=================================================================\n",
      " input_1 (InputLayer)        [(None, 32, 32, 3)]       0         \n",
      "                                                                 \n",
      " block1_conv1 (Conv2D)       (None, 32, 32, 64)        1792      \n",
      "                                                                 \n",
      " block1_conv2 (Conv2D)       (None, 32, 32, 64)        36928     \n",
      "                                                                 \n",
      " block1_pool (MaxPooling2D)  (None, 16, 16, 64)        0         \n",
      "                                                                 \n",
      " block2_conv1 (Conv2D)       (None, 16, 16, 128)       73856     \n",
      "                                                                 \n",
      " block2_conv2 (Conv2D)       (None, 16, 16, 128)       147584    \n",
      "                                                                 \n",
      " block2_pool (MaxPooling2D)  (None, 8, 8, 128)         0         \n",
      "                                                                 \n",
      " block3_conv1 (Conv2D)       (None, 8, 8, 256)         295168    \n",
      "                                                                 \n",
      " block3_conv2 (Conv2D)       (None, 8, 8, 256)         590080    \n",
      "                                                                 \n",
      " block3_conv3 (Conv2D)       (None, 8, 8, 256)         590080    \n",
      "                                                                 \n",
      " block3_pool (MaxPooling2D)  (None, 4, 4, 256)         0         \n",
      "                                                                 \n",
      " block4_conv1 (Conv2D)       (None, 4, 4, 512)         1180160   \n",
      "                                                                 \n",
      " block4_conv2 (Conv2D)       (None, 4, 4, 512)         2359808   \n",
      "                                                                 \n",
      " block4_conv3 (Conv2D)       (None, 4, 4, 512)         2359808   \n",
      "                                                                 \n",
      " block4_pool (MaxPooling2D)  (None, 2, 2, 512)         0         \n",
      "                                                                 \n",
      " block5_conv1 (Conv2D)       (None, 2, 2, 512)         2359808   \n",
      "                                                                 \n",
      " block5_conv2 (Conv2D)       (None, 2, 2, 512)         2359808   \n",
      "                                                                 \n",
      " block5_conv3 (Conv2D)       (None, 2, 2, 512)         2359808   \n",
      "                                                                 \n",
      " block5_pool (MaxPooling2D)  (None, 1, 1, 512)         0         \n",
      "                                                                 \n",
      "=================================================================\n",
      "Total params: 14,714,688\n",
      "Trainable params: 0\n",
      "Non-trainable params: 14,714,688\n",
      "_________________________________________________________________\n"
     ]
    }
   ],
   "source": [
    "# Create the base model from the pre-trained model MobileNet V2\n",
    "base_model = tf.keras.applications.VGG16(input_shape=X_train.shape[1:], include_top=False, weights='imagenet')\n",
    "base_model.trainable = False\n",
    "base_model.summary()"
   ]
  },
  {
   "cell_type": "markdown",
   "id": "8c4a7e3f",
   "metadata": {},
   "source": [
    "### Add final layers"
   ]
  },
  {
   "cell_type": "code",
   "execution_count": 6,
   "id": "db597965",
   "metadata": {},
   "outputs": [],
   "source": [
    "flatten = tf.keras.layers.Flatten()\n",
    "dense = tf.keras.layers.Dense(64, activation=\"relu\")\n",
    "final = tf.keras.layers.Dense(10, activation=\"softmax\")"
   ]
  },
  {
   "cell_type": "markdown",
   "id": "ad6bb844",
   "metadata": {},
   "source": [
    "### Put everything together"
   ]
  },
  {
   "cell_type": "code",
   "execution_count": 7,
   "id": "1411f798",
   "metadata": {},
   "outputs": [
    {
     "name": "stdout",
     "output_type": "stream",
     "text": [
      "Model: \"model\"\n",
      "_________________________________________________________________\n",
      " Layer (type)                Output Shape              Param #   \n",
      "=================================================================\n",
      " input_2 (InputLayer)        [(None, 32, 32, 3)]       0         \n",
      "                                                                 \n",
      " tf.__operators__.getitem (S  (None, 32, 32, 3)        0         \n",
      " licingOpLambda)                                                 \n",
      "                                                                 \n",
      " tf.nn.bias_add (TFOpLambda)  (None, 32, 32, 3)        0         \n",
      "                                                                 \n",
      " vgg16 (Functional)          (None, 1, 1, 512)         14714688  \n",
      "                                                                 \n",
      " flatten (Flatten)           (None, 512)               0         \n",
      "                                                                 \n",
      " dense (Dense)               (None, 64)                32832     \n",
      "                                                                 \n",
      " dense_1 (Dense)             (None, 10)                650       \n",
      "                                                                 \n",
      "=================================================================\n",
      "Total params: 14,748,170\n",
      "Trainable params: 33,482\n",
      "Non-trainable params: 14,714,688\n",
      "_________________________________________________________________\n"
     ]
    }
   ],
   "source": [
    "inputs = tf.keras.Input(shape=X_train.shape[1:])\n",
    "x = preprocess_input(inputs)\n",
    "x = base_model(x, training=False)\n",
    "x = flatten(x)\n",
    "x = dense(x)\n",
    "outputs = final(x)\n",
    "model = tf.keras.Model(inputs, outputs)\n",
    "\n",
    "\n",
    "model.compile(optimizer=tf.keras.optimizers.Adam(learning_rate=1e-4),\n",
    "              loss=tf.keras.losses.SparseCategoricalCrossentropy(from_logits=False),\n",
    "              metrics=['accuracy'])\n",
    "model.summary()"
   ]
  },
  {
   "cell_type": "markdown",
   "id": "7ffd9174",
   "metadata": {},
   "source": [
    "### Train only final layers (classification), feature extraction is untouched / frozen"
   ]
  },
  {
   "cell_type": "code",
   "execution_count": 8,
   "id": "0150885a",
   "metadata": {
    "scrolled": true
   },
   "outputs": [
    {
     "name": "stdout",
     "output_type": "stream",
     "text": [
      "Epoch 1/100\n"
     ]
    },
    {
     "name": "stderr",
     "output_type": "stream",
     "text": [
      "2023-02-28 15:43:11.701923: I tensorflow/compiler/xla/stream_executor/cuda/cuda_dnn.cc:428] Loaded cuDNN version 8100\n",
      "2023-02-28 15:43:14.449914: I tensorflow/compiler/xla/service/service.cc:173] XLA service 0x1f0b7310 initialized for platform CUDA (this does not guarantee that XLA will be used). Devices:\n",
      "2023-02-28 15:43:14.449943: I tensorflow/compiler/xla/service/service.cc:181]   StreamExecutor device (0): NVIDIA GeForce GTX 1650 Ti, Compute Capability 7.5\n",
      "2023-02-28 15:43:14.455869: I tensorflow/compiler/mlir/tensorflow/utils/dump_mlir_util.cc:268] disabling MLIR crash reproducer, set env var `MLIR_CRASH_REPRODUCER_DIRECTORY` to enable.\n",
      "2023-02-28 15:43:14.620420: I tensorflow/compiler/jit/xla_compilation_cache.cc:477] Compiled cluster using XLA!  This line is logged at most once for the lifetime of the process.\n"
     ]
    },
    {
     "name": "stdout",
     "output_type": "stream",
     "text": [
      "391/391 [==============================] - 19s 36ms/step - loss: 7.4397 - accuracy: 0.2902 - val_loss: 4.3307 - val_accuracy: 0.3823\n",
      "Epoch 2/100\n",
      "391/391 [==============================] - 12s 31ms/step - loss: 3.3857 - accuracy: 0.4169 - val_loss: 2.8711 - val_accuracy: 0.4290\n",
      "Epoch 3/100\n",
      "391/391 [==============================] - 12s 31ms/step - loss: 2.3911 - accuracy: 0.4477 - val_loss: 2.2204 - val_accuracy: 0.4482\n",
      "Epoch 4/100\n",
      "391/391 [==============================] - 12s 31ms/step - loss: 1.9257 - accuracy: 0.4676 - val_loss: 1.8918 - val_accuracy: 0.4635\n",
      "Epoch 5/100\n",
      "391/391 [==============================] - 12s 31ms/step - loss: 1.6851 - accuracy: 0.4910 - val_loss: 1.7150 - val_accuracy: 0.4846\n",
      "Epoch 6/100\n",
      "391/391 [==============================] - 12s 31ms/step - loss: 1.5378 - accuracy: 0.5142 - val_loss: 1.5944 - val_accuracy: 0.5055\n",
      "Epoch 7/100\n",
      "391/391 [==============================] - 12s 31ms/step - loss: 1.4318 - accuracy: 0.5349 - val_loss: 1.5145 - val_accuracy: 0.5224\n",
      "Epoch 8/100\n",
      "391/391 [==============================] - 12s 31ms/step - loss: 1.3505 - accuracy: 0.5538 - val_loss: 1.4497 - val_accuracy: 0.5396\n",
      "Epoch 9/100\n",
      "391/391 [==============================] - 12s 31ms/step - loss: 1.2824 - accuracy: 0.5724 - val_loss: 1.3982 - val_accuracy: 0.5547\n",
      "Epoch 10/100\n",
      "391/391 [==============================] - 12s 31ms/step - loss: 1.2263 - accuracy: 0.5876 - val_loss: 1.3581 - val_accuracy: 0.5647\n",
      "Epoch 11/100\n",
      "391/391 [==============================] - 12s 31ms/step - loss: 1.1781 - accuracy: 0.6013 - val_loss: 1.3225 - val_accuracy: 0.5756\n",
      "Epoch 12/100\n",
      "391/391 [==============================] - 12s 31ms/step - loss: 1.1357 - accuracy: 0.6135 - val_loss: 1.2951 - val_accuracy: 0.5832\n",
      "Epoch 13/100\n",
      "391/391 [==============================] - 12s 31ms/step - loss: 1.0982 - accuracy: 0.6245 - val_loss: 1.2695 - val_accuracy: 0.5893\n",
      "Epoch 14/100\n",
      "391/391 [==============================] - 12s 31ms/step - loss: 1.0655 - accuracy: 0.6344 - val_loss: 1.2484 - val_accuracy: 0.5938\n",
      "Epoch 15/100\n",
      "391/391 [==============================] - 12s 31ms/step - loss: 1.0361 - accuracy: 0.6442 - val_loss: 1.2340 - val_accuracy: 0.5993\n",
      "Epoch 16/100\n",
      "391/391 [==============================] - 12s 31ms/step - loss: 1.0100 - accuracy: 0.6518 - val_loss: 1.2174 - val_accuracy: 0.6066\n",
      "Epoch 17/100\n",
      "391/391 [==============================] - 12s 31ms/step - loss: 0.9854 - accuracy: 0.6595 - val_loss: 1.2013 - val_accuracy: 0.6096\n",
      "Epoch 18/100\n",
      "391/391 [==============================] - 12s 31ms/step - loss: 0.9629 - accuracy: 0.6680 - val_loss: 1.1881 - val_accuracy: 0.6146\n",
      "Epoch 19/100\n",
      "391/391 [==============================] - 12s 31ms/step - loss: 0.9423 - accuracy: 0.6740 - val_loss: 1.1797 - val_accuracy: 0.6175\n",
      "Epoch 20/100\n",
      "391/391 [==============================] - 12s 31ms/step - loss: 0.9236 - accuracy: 0.6805 - val_loss: 1.1719 - val_accuracy: 0.6206\n",
      "Epoch 21/100\n",
      "391/391 [==============================] - 12s 31ms/step - loss: 0.9060 - accuracy: 0.6866 - val_loss: 1.1629 - val_accuracy: 0.6209\n",
      "Epoch 22/100\n",
      "391/391 [==============================] - 12s 31ms/step - loss: 0.8899 - accuracy: 0.6919 - val_loss: 1.1592 - val_accuracy: 0.6230\n",
      "Epoch 23/100\n",
      "391/391 [==============================] - 12s 31ms/step - loss: 0.8749 - accuracy: 0.6973 - val_loss: 1.1530 - val_accuracy: 0.6254\n",
      "Epoch 24/100\n",
      "391/391 [==============================] - 12s 31ms/step - loss: 0.8611 - accuracy: 0.7013 - val_loss: 1.1538 - val_accuracy: 0.6293\n",
      "Epoch 25/100\n",
      "391/391 [==============================] - 12s 31ms/step - loss: 0.8481 - accuracy: 0.7043 - val_loss: 1.1476 - val_accuracy: 0.6295\n",
      "Epoch 26/100\n",
      "391/391 [==============================] - 12s 31ms/step - loss: 0.8359 - accuracy: 0.7098 - val_loss: 1.1472 - val_accuracy: 0.6293\n",
      "Epoch 27/100\n",
      "391/391 [==============================] - 12s 31ms/step - loss: 0.8246 - accuracy: 0.7136 - val_loss: 1.1435 - val_accuracy: 0.6342\n",
      "Epoch 28/100\n",
      "391/391 [==============================] - 12s 31ms/step - loss: 0.8129 - accuracy: 0.7184 - val_loss: 1.1454 - val_accuracy: 0.6364\n",
      "Epoch 29/100\n",
      "391/391 [==============================] - 12s 31ms/step - loss: 0.8031 - accuracy: 0.7217 - val_loss: 1.1408 - val_accuracy: 0.6394\n",
      "Epoch 30/100\n",
      "391/391 [==============================] - 12s 31ms/step - loss: 0.7930 - accuracy: 0.7247 - val_loss: 1.1436 - val_accuracy: 0.6379\n",
      "Epoch 31/100\n",
      "391/391 [==============================] - 12s 31ms/step - loss: 0.7829 - accuracy: 0.7287 - val_loss: 1.1447 - val_accuracy: 0.6388\n",
      "Epoch 32/100\n",
      "391/391 [==============================] - 12s 31ms/step - loss: 0.7743 - accuracy: 0.7312 - val_loss: 1.1436 - val_accuracy: 0.6384\n",
      "Epoch 33/100\n",
      "391/391 [==============================] - 12s 31ms/step - loss: 0.7656 - accuracy: 0.7348 - val_loss: 1.1469 - val_accuracy: 0.6405\n",
      "Epoch 34/100\n",
      "391/391 [==============================] - 12s 31ms/step - loss: 0.7572 - accuracy: 0.7378 - val_loss: 1.1499 - val_accuracy: 0.6403\n",
      "Epoch 35/100\n",
      "391/391 [==============================] - 12s 31ms/step - loss: 0.7494 - accuracy: 0.7406 - val_loss: 1.1522 - val_accuracy: 0.6398\n",
      "Epoch 36/100\n",
      "391/391 [==============================] - 12s 31ms/step - loss: 0.7419 - accuracy: 0.7427 - val_loss: 1.1570 - val_accuracy: 0.6405\n",
      "Epoch 37/100\n",
      "391/391 [==============================] - 12s 31ms/step - loss: 0.7345 - accuracy: 0.7457 - val_loss: 1.1599 - val_accuracy: 0.6402\n",
      "Epoch 38/100\n",
      "391/391 [==============================] - 12s 31ms/step - loss: 0.7270 - accuracy: 0.7481 - val_loss: 1.1609 - val_accuracy: 0.6425\n",
      "Epoch 39/100\n",
      "391/391 [==============================] - 12s 31ms/step - loss: 0.7201 - accuracy: 0.7504 - val_loss: 1.1677 - val_accuracy: 0.6410\n",
      "Epoch 40/100\n",
      "391/391 [==============================] - 12s 31ms/step - loss: 0.7132 - accuracy: 0.7529 - val_loss: 1.1694 - val_accuracy: 0.6409\n",
      "Epoch 41/100\n",
      "391/391 [==============================] - 12s 31ms/step - loss: 0.7063 - accuracy: 0.7555 - val_loss: 1.1758 - val_accuracy: 0.6425\n",
      "Epoch 42/100\n",
      "391/391 [==============================] - 12s 31ms/step - loss: 0.7005 - accuracy: 0.7574 - val_loss: 1.1775 - val_accuracy: 0.6417\n",
      "Epoch 43/100\n",
      "391/391 [==============================] - 12s 31ms/step - loss: 0.6943 - accuracy: 0.7583 - val_loss: 1.1823 - val_accuracy: 0.6404\n",
      "Epoch 44/100\n",
      "391/391 [==============================] - 12s 31ms/step - loss: 0.6879 - accuracy: 0.7614 - val_loss: 1.1850 - val_accuracy: 0.6393\n",
      "Epoch 45/100\n",
      "391/391 [==============================] - 12s 31ms/step - loss: 0.6822 - accuracy: 0.7633 - val_loss: 1.1899 - val_accuracy: 0.6405\n",
      "Epoch 46/100\n",
      "391/391 [==============================] - 12s 31ms/step - loss: 0.6768 - accuracy: 0.7652 - val_loss: 1.1976 - val_accuracy: 0.6379\n",
      "Epoch 47/100\n",
      "391/391 [==============================] - 12s 31ms/step - loss: 0.6710 - accuracy: 0.7673 - val_loss: 1.2036 - val_accuracy: 0.6390\n",
      "Epoch 48/100\n",
      "391/391 [==============================] - 12s 31ms/step - loss: 0.6654 - accuracy: 0.7693 - val_loss: 1.2115 - val_accuracy: 0.6391\n",
      "Epoch 49/100\n",
      "391/391 [==============================] - 12s 31ms/step - loss: 0.6604 - accuracy: 0.7697 - val_loss: 1.2151 - val_accuracy: 0.6376\n",
      "Epoch 50/100\n",
      "391/391 [==============================] - 12s 31ms/step - loss: 0.6553 - accuracy: 0.7733 - val_loss: 1.2216 - val_accuracy: 0.6371\n",
      "Epoch 51/100\n",
      "391/391 [==============================] - 12s 31ms/step - loss: 0.6501 - accuracy: 0.7743 - val_loss: 1.2204 - val_accuracy: 0.6396\n",
      "Epoch 52/100\n",
      "391/391 [==============================] - 12s 29ms/step - loss: 0.6453 - accuracy: 0.7754 - val_loss: 1.2352 - val_accuracy: 0.6390\n",
      "Epoch 53/100\n",
      "391/391 [==============================] - 12s 29ms/step - loss: 0.6403 - accuracy: 0.7771 - val_loss: 1.2383 - val_accuracy: 0.6361\n",
      "Epoch 54/100\n",
      "391/391 [==============================] - 12s 29ms/step - loss: 0.6356 - accuracy: 0.7801 - val_loss: 1.2459 - val_accuracy: 0.6385\n",
      "Epoch 55/100\n",
      "391/391 [==============================] - 12s 29ms/step - loss: 0.6309 - accuracy: 0.7807 - val_loss: 1.2511 - val_accuracy: 0.6382\n",
      "Epoch 56/100\n",
      "391/391 [==============================] - 12s 29ms/step - loss: 0.6265 - accuracy: 0.7831 - val_loss: 1.2565 - val_accuracy: 0.6365\n",
      "Epoch 57/100\n"
     ]
    },
    {
     "name": "stdout",
     "output_type": "stream",
     "text": [
      "391/391 [==============================] - 12s 29ms/step - loss: 0.6218 - accuracy: 0.7845 - val_loss: 1.2675 - val_accuracy: 0.6350\n",
      "Epoch 58/100\n",
      "391/391 [==============================] - 12s 29ms/step - loss: 0.6178 - accuracy: 0.7864 - val_loss: 1.2696 - val_accuracy: 0.6360\n",
      "Epoch 59/100\n",
      "391/391 [==============================] - 12s 29ms/step - loss: 0.6133 - accuracy: 0.7874 - val_loss: 1.2781 - val_accuracy: 0.6358\n",
      "Epoch 60/100\n",
      "391/391 [==============================] - 12s 30ms/step - loss: 0.6093 - accuracy: 0.7890 - val_loss: 1.2881 - val_accuracy: 0.6349\n",
      "Epoch 61/100\n",
      "391/391 [==============================] - 12s 31ms/step - loss: 0.6050 - accuracy: 0.7910 - val_loss: 1.2931 - val_accuracy: 0.6341\n",
      "Epoch 62/100\n",
      "391/391 [==============================] - 12s 31ms/step - loss: 0.6011 - accuracy: 0.7922 - val_loss: 1.2964 - val_accuracy: 0.6358\n",
      "Epoch 63/100\n",
      "391/391 [==============================] - 12s 30ms/step - loss: 0.5967 - accuracy: 0.7939 - val_loss: 1.3071 - val_accuracy: 0.6354\n",
      "Epoch 64/100\n",
      "391/391 [==============================] - 12s 31ms/step - loss: 0.5931 - accuracy: 0.7946 - val_loss: 1.3160 - val_accuracy: 0.6331\n",
      "Epoch 65/100\n",
      "391/391 [==============================] - 12s 31ms/step - loss: 0.5893 - accuracy: 0.7960 - val_loss: 1.3227 - val_accuracy: 0.6345\n",
      "Epoch 66/100\n",
      "391/391 [==============================] - 12s 30ms/step - loss: 0.5855 - accuracy: 0.7975 - val_loss: 1.3341 - val_accuracy: 0.6332\n",
      "Epoch 67/100\n",
      "391/391 [==============================] - 12s 31ms/step - loss: 0.5818 - accuracy: 0.7997 - val_loss: 1.3420 - val_accuracy: 0.6321\n",
      "Epoch 68/100\n",
      "391/391 [==============================] - 12s 31ms/step - loss: 0.5779 - accuracy: 0.8002 - val_loss: 1.3475 - val_accuracy: 0.6318\n",
      "Epoch 69/100\n",
      "391/391 [==============================] - 12s 31ms/step - loss: 0.5747 - accuracy: 0.8016 - val_loss: 1.3551 - val_accuracy: 0.6322\n",
      "Epoch 70/100\n",
      "391/391 [==============================] - 12s 31ms/step - loss: 0.5707 - accuracy: 0.8037 - val_loss: 1.3628 - val_accuracy: 0.6311\n",
      "Epoch 71/100\n",
      "391/391 [==============================] - 12s 31ms/step - loss: 0.5675 - accuracy: 0.8038 - val_loss: 1.3719 - val_accuracy: 0.6325\n",
      "Epoch 72/100\n",
      "391/391 [==============================] - 12s 31ms/step - loss: 0.5639 - accuracy: 0.8057 - val_loss: 1.3758 - val_accuracy: 0.6305\n",
      "Epoch 73/100\n",
      "391/391 [==============================] - 12s 31ms/step - loss: 0.5604 - accuracy: 0.8070 - val_loss: 1.3884 - val_accuracy: 0.6310\n",
      "Epoch 74/100\n",
      "391/391 [==============================] - 12s 31ms/step - loss: 0.5573 - accuracy: 0.8076 - val_loss: 1.3958 - val_accuracy: 0.6288\n",
      "Epoch 75/100\n",
      "391/391 [==============================] - 12s 31ms/step - loss: 0.5542 - accuracy: 0.8098 - val_loss: 1.4070 - val_accuracy: 0.6299\n",
      "Epoch 76/100\n",
      "391/391 [==============================] - 12s 31ms/step - loss: 0.5509 - accuracy: 0.8108 - val_loss: 1.4130 - val_accuracy: 0.6320\n",
      "Epoch 77/100\n",
      "391/391 [==============================] - 12s 31ms/step - loss: 0.5479 - accuracy: 0.8114 - val_loss: 1.4212 - val_accuracy: 0.6281\n",
      "Epoch 78/100\n",
      "391/391 [==============================] - 12s 31ms/step - loss: 0.5445 - accuracy: 0.8129 - val_loss: 1.4256 - val_accuracy: 0.6311\n",
      "Epoch 79/100\n",
      "391/391 [==============================] - 12s 31ms/step - loss: 0.5416 - accuracy: 0.8134 - val_loss: 1.4394 - val_accuracy: 0.6276\n",
      "Epoch 80/100\n",
      "391/391 [==============================] - 12s 31ms/step - loss: 0.5389 - accuracy: 0.8148 - val_loss: 1.4444 - val_accuracy: 0.6287\n",
      "Epoch 81/100\n",
      "391/391 [==============================] - 12s 32ms/step - loss: 0.5357 - accuracy: 0.8155 - val_loss: 1.4547 - val_accuracy: 0.6266\n",
      "Epoch 82/100\n",
      "391/391 [==============================] - 12s 32ms/step - loss: 0.5326 - accuracy: 0.8175 - val_loss: 1.4655 - val_accuracy: 0.6262\n",
      "Epoch 83/100\n",
      "391/391 [==============================] - 12s 31ms/step - loss: 0.5300 - accuracy: 0.8175 - val_loss: 1.4735 - val_accuracy: 0.6271\n",
      "Epoch 84/100\n",
      "391/391 [==============================] - 12s 31ms/step - loss: 0.5268 - accuracy: 0.8194 - val_loss: 1.4842 - val_accuracy: 0.6273\n",
      "Epoch 85/100\n",
      "391/391 [==============================] - 12s 31ms/step - loss: 0.5241 - accuracy: 0.8198 - val_loss: 1.4876 - val_accuracy: 0.6277\n",
      "Epoch 86/100\n",
      "391/391 [==============================] - 12s 32ms/step - loss: 0.5216 - accuracy: 0.8209 - val_loss: 1.5005 - val_accuracy: 0.6252\n",
      "Epoch 87/100\n",
      "391/391 [==============================] - 12s 31ms/step - loss: 0.5187 - accuracy: 0.8225 - val_loss: 1.5110 - val_accuracy: 0.6252\n",
      "Epoch 88/100\n",
      "391/391 [==============================] - 12s 31ms/step - loss: 0.5160 - accuracy: 0.8236 - val_loss: 1.5119 - val_accuracy: 0.6258\n",
      "Epoch 89/100\n",
      "391/391 [==============================] - 12s 30ms/step - loss: 0.5135 - accuracy: 0.8246 - val_loss: 1.5253 - val_accuracy: 0.6262\n",
      "Epoch 90/100\n",
      "391/391 [==============================] - 12s 31ms/step - loss: 0.5110 - accuracy: 0.8260 - val_loss: 1.5335 - val_accuracy: 0.6260\n",
      "Epoch 91/100\n",
      "391/391 [==============================] - 12s 31ms/step - loss: 0.5081 - accuracy: 0.8257 - val_loss: 1.5480 - val_accuracy: 0.6252\n",
      "Epoch 92/100\n",
      "391/391 [==============================] - 12s 30ms/step - loss: 0.5055 - accuracy: 0.8275 - val_loss: 1.5596 - val_accuracy: 0.6246\n",
      "Epoch 93/100\n",
      "391/391 [==============================] - 12s 31ms/step - loss: 0.5032 - accuracy: 0.8270 - val_loss: 1.5624 - val_accuracy: 0.6245\n",
      "Epoch 94/100\n",
      "391/391 [==============================] - 12s 30ms/step - loss: 0.5006 - accuracy: 0.8293 - val_loss: 1.5727 - val_accuracy: 0.6264\n",
      "Epoch 95/100\n",
      "391/391 [==============================] - 12s 31ms/step - loss: 0.4982 - accuracy: 0.8295 - val_loss: 1.5818 - val_accuracy: 0.6261\n",
      "Epoch 96/100\n",
      "391/391 [==============================] - 12s 30ms/step - loss: 0.4955 - accuracy: 0.8312 - val_loss: 1.5917 - val_accuracy: 0.6260\n",
      "Epoch 97/100\n",
      "391/391 [==============================] - 12s 32ms/step - loss: 0.4934 - accuracy: 0.8313 - val_loss: 1.6045 - val_accuracy: 0.6235\n",
      "Epoch 98/100\n",
      "391/391 [==============================] - 12s 32ms/step - loss: 0.4909 - accuracy: 0.8328 - val_loss: 1.6150 - val_accuracy: 0.6231\n",
      "Epoch 99/100\n",
      "391/391 [==============================] - 13s 33ms/step - loss: 0.4888 - accuracy: 0.8335 - val_loss: 1.6164 - val_accuracy: 0.6240\n",
      "Epoch 100/100\n",
      "391/391 [==============================] - 13s 33ms/step - loss: 0.4864 - accuracy: 0.8333 - val_loss: 1.6321 - val_accuracy: 0.6238\n"
     ]
    }
   ],
   "source": [
    "history = model.fit(X_train, Y_train, batch_size=128, validation_data=(X_test, Y_test), epochs=100)"
   ]
  },
  {
   "cell_type": "code",
   "execution_count": 12,
   "id": "e880e938",
   "metadata": {},
   "outputs": [
    {
     "data": {
      "image/png": "[encoded data removed]",
      "text/plain": [
       "<Figure size 432x288 with 1 Axes>"
      ]
     },
     "metadata": {
      "needs_background": "light"
     },
     "output_type": "display_data"
    },
    {
     "data": {
      "image/png": "[encoded data removed]",
      "text/plain": [
       "<Figure size 432x288 with 1 Axes>"
      ]
     },
     "metadata": {
      "needs_background": "light"
     },
     "output_type": "display_data"
    }
   ],
   "source": [
    "# Plot losses\n",
    "plt.plot(range(len(history.history[\"loss\"])), history.history[\"loss\"])\n",
    "plt.plot(range(len(history.history[\"val_loss\"])), history.history[\"val_loss\"])\n",
    "plt.show()\n",
    "\n",
    "# Plot accuracies\n",
    "plt.plot(range(len(history.history[\"accuracy\"])), history.history[\"accuracy\"])\n",
    "plt.plot(range(len(history.history[\"val_accuracy\"])), history.history[\"val_accuracy\"])\n",
    "plt.show()"
   ]
  },
  {
   "cell_type": "code",
   "execution_count": null,
   "id": "7df9417f",
   "metadata": {},
   "outputs": [],
   "source": []
  }
 ],
 "metadata": {
  "kernelspec": {
   "display_name": "Python 3 (ipykernel)",
   "language": "python",
   "name": "python3"
  },
  "language_info": {
   "codemirror_mode": {
    "name": "ipython",
    "version": 3
   },
   "file_extension": ".py",
   "mimetype": "text/x-python",
   "name": "python",
   "nbconvert_exporter": "python",
   "pygments_lexer": "ipython3",
   "version": "3.8.10"
  }
 },
 "nbformat": 4,
 "nbformat_minor": 5
}

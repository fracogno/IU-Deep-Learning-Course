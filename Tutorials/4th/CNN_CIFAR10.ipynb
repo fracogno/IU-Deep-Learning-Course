{
 "cells": [
  {
   "cell_type": "code",
   "execution_count": 1,
   "id": "ad9bd25b",
   "metadata": {},
   "outputs": [
    {
     "name": "stderr",
     "output_type": "stream",
     "text": [
      "2023-02-01 11:19:53.714756: I tensorflow/core/platform/cpu_feature_guard.cc:193] This TensorFlow binary is optimized with oneAPI Deep Neural Network Library (oneDNN) to use the following CPU instructions in performance-critical operations:  AVX2 FMA\n",
      "To enable them in other operations, rebuild TensorFlow with the appropriate compiler flags.\n",
      "2023-02-01 11:19:54.740173: W tensorflow/compiler/xla/stream_executor/platform/default/dso_loader.cc:64] Could not load dynamic library 'libnvinfer.so.7'; dlerror: libnvinfer.so.7: cannot open shared object file: No such file or directory; LD_LIBRARY_PATH: /home/francesco/Downloads/cuda/lib64:/usr/local/cuda-11.2/lib64\n",
      "2023-02-01 11:19:54.740252: W tensorflow/compiler/xla/stream_executor/platform/default/dso_loader.cc:64] Could not load dynamic library 'libnvinfer_plugin.so.7'; dlerror: libnvinfer_plugin.so.7: cannot open shared object file: No such file or directory; LD_LIBRARY_PATH: /home/francesco/Downloads/cuda/lib64:/usr/local/cuda-11.2/lib64\n",
      "2023-02-01 11:19:54.740261: W tensorflow/compiler/tf2tensorrt/utils/py_utils.cc:38] TF-TRT Warning: Cannot dlopen some TensorRT libraries. If you would like to use Nvidia GPU with TensorRT, please make sure the missing libraries mentioned above are installed properly.\n"
     ]
    }
   ],
   "source": [
    "import tensorflow as tf\n",
    "import numpy as np\n",
    "import matplotlib.pyplot as plt"
   ]
  },
  {
   "cell_type": "markdown",
   "id": "2392772e",
   "metadata": {},
   "source": [
    "### Load CIFAR10 dataset and print shapes of X and Y for training and testing"
   ]
  },
  {
   "cell_type": "code",
   "execution_count": 2,
   "id": "5f0c29e1",
   "metadata": {},
   "outputs": [
    {
     "name": "stdout",
     "output_type": "stream",
     "text": [
      "(50000, 32, 32, 3) (50000, 1)\n",
      "(10000, 32, 32, 3) (10000, 1)\n"
     ]
    }
   ],
   "source": [
    "(X_train, Y_train), (X_test, Y_test) = tf.keras.datasets.cifar10.load_data()\n",
    "print(X_train.shape, Y_train.shape)\n",
    "print(X_test.shape, Y_test.shape)"
   ]
  },
  {
   "cell_type": "markdown",
   "id": "3369228d",
   "metadata": {},
   "source": [
    "### Print the unique labels"
   ]
  },
  {
   "cell_type": "code",
   "execution_count": 3,
   "id": "e705d286",
   "metadata": {},
   "outputs": [
    {
     "name": "stdout",
     "output_type": "stream",
     "text": [
      "[0 1 2 3 4 5 6 7 8 9]\n"
     ]
    }
   ],
   "source": [
    "print(np.unique(Y_train))"
   ]
  },
  {
   "cell_type": "markdown",
   "id": "7032162e",
   "metadata": {},
   "source": [
    "### Visualize one image and the label from the dataset"
   ]
  },
  {
   "cell_type": "code",
   "execution_count": 4,
   "id": "830006ea",
   "metadata": {},
   "outputs": [
    {
     "name": "stdout",
     "output_type": "stream",
     "text": [
      "[3]\n"
     ]
    },
    {
     "data": {
      "image/png": "[encoded data removed]",
      "text/plain": [
       "<Figure size 432x288 with 1 Axes>"
      ]
     },
     "metadata": {
      "needs_background": "light"
     },
     "output_type": "display_data"
    }
   ],
   "source": [
    "index = 1010\n",
    "plt.imshow(X_train[index])\n",
    "print(Y_train[index])"
   ]
  },
  {
   "cell_type": "markdown",
   "id": "9c229b5c",
   "metadata": {},
   "source": [
    "### Normalize the data"
   ]
  },
  {
   "cell_type": "code",
   "execution_count": 5,
   "id": "711107b6",
   "metadata": {},
   "outputs": [
    {
     "name": "stdout",
     "output_type": "stream",
     "text": [
      "255 0\n",
      "1.0 0.0\n",
      "1.0 0.0\n"
     ]
    }
   ],
   "source": [
    "print(X_train.max(), X_train.min())\n",
    "\n",
    "X_train = X_train / 255.\n",
    "X_test = X_test / 255.\n",
    "\n",
    "print(X_train.max(), X_train.min())\n",
    "print(X_test.max(), X_test.min())"
   ]
  },
  {
   "cell_type": "markdown",
   "id": "d6c11606",
   "metadata": {},
   "source": [
    "### Create CNN model architecture using sequential"
   ]
  },
  {
   "cell_type": "code",
   "execution_count": 6,
   "id": "df3bbfbe",
   "metadata": {
    "scrolled": false
   },
   "outputs": [
    {
     "name": "stdout",
     "output_type": "stream",
     "text": [
      "Model: \"sequential\"\n",
      "_________________________________________________________________\n",
      " Layer (type)                Output Shape              Param #   \n",
      "=================================================================\n",
      " conv2d (Conv2D)             (None, 32, 32, 32)        896       \n",
      "                                                                 \n",
      " batch_normalization (BatchN  (None, 32, 32, 32)       128       \n",
      " ormalization)                                                   \n",
      "                                                                 \n",
      " re_lu (ReLU)                (None, 32, 32, 32)        0         \n",
      "                                                                 \n",
      " max_pooling2d (MaxPooling2D  (None, 16, 16, 32)       0         \n",
      " )                                                               \n",
      "                                                                 \n",
      " dropout (Dropout)           (None, 16, 16, 32)        0         \n",
      "                                                                 \n",
      " conv2d_1 (Conv2D)           (None, 16, 16, 64)        18496     \n",
      "                                                                 \n",
      " batch_normalization_1 (Batc  (None, 16, 16, 64)       256       \n",
      " hNormalization)                                                 \n",
      "                                                                 \n",
      " re_lu_1 (ReLU)              (None, 16, 16, 64)        0         \n",
      "                                                                 \n",
      " max_pooling2d_1 (MaxPooling  (None, 8, 8, 64)         0         \n",
      " 2D)                                                             \n",
      "                                                                 \n",
      " dropout_1 (Dropout)         (None, 8, 8, 64)          0         \n",
      "                                                                 \n",
      " conv2d_2 (Conv2D)           (None, 8, 8, 128)         73856     \n",
      "                                                                 \n",
      " batch_normalization_2 (Batc  (None, 8, 8, 128)        512       \n",
      " hNormalization)                                                 \n",
      "                                                                 \n",
      " re_lu_2 (ReLU)              (None, 8, 8, 128)         0         \n",
      "                                                                 \n",
      " max_pooling2d_2 (MaxPooling  (None, 4, 4, 128)        0         \n",
      " 2D)                                                             \n",
      "                                                                 \n",
      " flatten (Flatten)           (None, 2048)              0         \n",
      "                                                                 \n",
      " dense (Dense)               (None, 128)               262272    \n",
      "                                                                 \n",
      " re_lu_3 (ReLU)              (None, 128)               0         \n",
      "                                                                 \n",
      " dropout_2 (Dropout)         (None, 128)               0         \n",
      "                                                                 \n",
      " dense_1 (Dense)             (None, 10)                1290      \n",
      "                                                                 \n",
      "=================================================================\n",
      "Total params: 357,706\n",
      "Trainable params: 357,258\n",
      "Non-trainable params: 448\n",
      "_________________________________________________________________\n"
     ]
    },
    {
     "name": "stderr",
     "output_type": "stream",
     "text": [
      "2023-02-01 11:19:58.924960: I tensorflow/compiler/xla/stream_executor/cuda/cuda_gpu_executor.cc:981] successful NUMA node read from SysFS had negative value (-1), but there must be at least one NUMA node, so returning NUMA node zero\n",
      "2023-02-01 11:19:58.931135: I tensorflow/compiler/xla/stream_executor/cuda/cuda_gpu_executor.cc:981] successful NUMA node read from SysFS had negative value (-1), but there must be at least one NUMA node, so returning NUMA node zero\n",
      "2023-02-01 11:19:58.931498: I tensorflow/compiler/xla/stream_executor/cuda/cuda_gpu_executor.cc:981] successful NUMA node read from SysFS had negative value (-1), but there must be at least one NUMA node, so returning NUMA node zero\n",
      "2023-02-01 11:19:58.932188: I tensorflow/core/platform/cpu_feature_guard.cc:193] This TensorFlow binary is optimized with oneAPI Deep Neural Network Library (oneDNN) to use the following CPU instructions in performance-critical operations:  AVX2 FMA\n",
      "To enable them in other operations, rebuild TensorFlow with the appropriate compiler flags.\n",
      "2023-02-01 11:19:58.932861: I tensorflow/compiler/xla/stream_executor/cuda/cuda_gpu_executor.cc:981] successful NUMA node read from SysFS had negative value (-1), but there must be at least one NUMA node, so returning NUMA node zero\n",
      "2023-02-01 11:19:58.933387: I tensorflow/compiler/xla/stream_executor/cuda/cuda_gpu_executor.cc:981] successful NUMA node read from SysFS had negative value (-1), but there must be at least one NUMA node, so returning NUMA node zero\n",
      "2023-02-01 11:19:58.933875: I tensorflow/compiler/xla/stream_executor/cuda/cuda_gpu_executor.cc:981] successful NUMA node read from SysFS had negative value (-1), but there must be at least one NUMA node, so returning NUMA node zero\n",
      "2023-02-01 11:19:59.560101: I tensorflow/compiler/xla/stream_executor/cuda/cuda_gpu_executor.cc:981] successful NUMA node read from SysFS had negative value (-1), but there must be at least one NUMA node, so returning NUMA node zero\n",
      "2023-02-01 11:19:59.560466: I tensorflow/compiler/xla/stream_executor/cuda/cuda_gpu_executor.cc:981] successful NUMA node read from SysFS had negative value (-1), but there must be at least one NUMA node, so returning NUMA node zero\n",
      "2023-02-01 11:19:59.560755: I tensorflow/compiler/xla/stream_executor/cuda/cuda_gpu_executor.cc:981] successful NUMA node read from SysFS had negative value (-1), but there must be at least one NUMA node, so returning NUMA node zero\n",
      "2023-02-01 11:19:59.561007: I tensorflow/core/common_runtime/gpu/gpu_device.cc:1613] Created device /job:localhost/replica:0/task:0/device:GPU:0 with 2120 MB memory:  -> device: 0, name: NVIDIA GeForce GTX 1650 Ti, pci bus id: 0000:01:00.0, compute capability: 7.5\n"
     ]
    }
   ],
   "source": [
    "model = tf.keras.Sequential([\n",
    "    tf.keras.Input(shape=(32,32,3)),\n",
    "    tf.keras.layers.Conv2D(filters=32, kernel_size=3, activation=None, padding=\"same\"),\n",
    "    tf.keras.layers.BatchNormalization(),\n",
    "    tf.keras.layers.ReLU(),\n",
    "    tf.keras.layers.MaxPool2D(pool_size=2),\n",
    "    tf.keras.layers.Dropout(0.3),\n",
    "    tf.keras.layers.Conv2D(filters=64, kernel_size=3, activation=None, padding=\"same\"),\n",
    "    tf.keras.layers.BatchNormalization(),\n",
    "    tf.keras.layers.ReLU(),\n",
    "    tf.keras.layers.MaxPool2D(pool_size=2),\n",
    "    tf.keras.layers.Dropout(0.3),\n",
    "    tf.keras.layers.Conv2D(filters=128, kernel_size=3, activation=None, padding=\"same\"),\n",
    "    tf.keras.layers.BatchNormalization(),\n",
    "    tf.keras.layers.ReLU(),\n",
    "    tf.keras.layers.MaxPool2D(pool_size=2),\n",
    "    tf.keras.layers.Flatten(),\n",
    "    tf.keras.layers.Dense(128, activation=None),\n",
    "    tf.keras.layers.ReLU(),\n",
    "    tf.keras.layers.Dropout(0.3),\n",
    "    tf.keras.layers.Dense(10, activation=\"softmax\")\n",
    "])\n",
    "model.summary()"
   ]
  },
  {
   "cell_type": "markdown",
   "id": "35b7f6a5",
   "metadata": {},
   "source": [
    "### Choose Optimizer, Loss function and Metrics for monitoring"
   ]
  },
  {
   "cell_type": "code",
   "execution_count": 7,
   "id": "32038540",
   "metadata": {},
   "outputs": [],
   "source": [
    "model.compile(optimizer=tf.keras.optimizers.Adam(learning_rate=1e-3),\n",
    "              loss=tf.keras.losses.SparseCategoricalCrossentropy(from_logits=False),\n",
    "              metrics=tf.keras.metrics.SparseCategoricalAccuracy())"
   ]
  },
  {
   "cell_type": "markdown",
   "id": "ceaf2c9d",
   "metadata": {},
   "source": [
    "### Start training"
   ]
  },
  {
   "cell_type": "code",
   "execution_count": 8,
   "id": "332ee8a8",
   "metadata": {},
   "outputs": [
    {
     "name": "stderr",
     "output_type": "stream",
     "text": [
      "2023-02-01 11:20:00.314328: W tensorflow/tsl/framework/cpu_allocator_impl.cc:82] Allocation of 614400000 exceeds 10% of free system memory.\n",
      "2023-02-01 11:20:00.778788: W tensorflow/tsl/framework/cpu_allocator_impl.cc:82] Allocation of 614400000 exceeds 10% of free system memory.\n"
     ]
    },
    {
     "name": "stdout",
     "output_type": "stream",
     "text": [
      "Epoch 1/50\n"
     ]
    },
    {
     "name": "stderr",
     "output_type": "stream",
     "text": [
      "2023-02-01 11:20:02.435798: E tensorflow/core/grappler/optimizers/meta_optimizer.cc:954] layout failed: INVALID_ARGUMENT: Size of values 0 does not match size of permutation 4 @ fanin shape insequential/dropout/dropout/SelectV2-2-TransposeNHWCToNCHW-LayoutOptimizer\n",
      "2023-02-01 11:20:03.201892: I tensorflow/compiler/xla/stream_executor/cuda/cuda_dnn.cc:428] Loaded cuDNN version 8100\n",
      "2023-02-01 11:20:04.482474: I tensorflow/compiler/xla/service/service.cc:173] XLA service 0x7f4be0014f60 initialized for platform CUDA (this does not guarantee that XLA will be used). Devices:\n",
      "2023-02-01 11:20:04.482510: I tensorflow/compiler/xla/service/service.cc:181]   StreamExecutor device (0): NVIDIA GeForce GTX 1650 Ti, Compute Capability 7.5\n",
      "2023-02-01 11:20:04.488595: I tensorflow/compiler/mlir/tensorflow/utils/dump_mlir_util.cc:268] disabling MLIR crash reproducer, set env var `MLIR_CRASH_REPRODUCER_DIRECTORY` to enable.\n",
      "2023-02-01 11:20:04.681897: I tensorflow/compiler/jit/xla_compilation_cache.cc:477] Compiled cluster using XLA!  This line is logged at most once for the lifetime of the process.\n"
     ]
    },
    {
     "name": "stdout",
     "output_type": "stream",
     "text": [
      "1563/1563 [==============================] - 16s 7ms/step - loss: 1.7469 - sparse_categorical_accuracy: 0.3449 - val_loss: 1.6663 - val_sparse_categorical_accuracy: 0.3960\n",
      "Epoch 2/50\n",
      "1563/1563 [==============================] - 10s 6ms/step - loss: 1.4534 - sparse_categorical_accuracy: 0.4521 - val_loss: 1.1956 - val_sparse_categorical_accuracy: 0.5814\n",
      "Epoch 3/50\n",
      "1563/1563 [==============================] - 10s 6ms/step - loss: 1.3460 - sparse_categorical_accuracy: 0.4954 - val_loss: 1.0944 - val_sparse_categorical_accuracy: 0.6209\n",
      "Epoch 4/50\n",
      "1563/1563 [==============================] - 10s 6ms/step - loss: 1.2617 - sparse_categorical_accuracy: 0.5297 - val_loss: 1.1505 - val_sparse_categorical_accuracy: 0.6069\n",
      "Epoch 5/50\n",
      "1563/1563 [==============================] - 10s 6ms/step - loss: 1.2029 - sparse_categorical_accuracy: 0.5534 - val_loss: 1.1760 - val_sparse_categorical_accuracy: 0.5638\n",
      "Epoch 6/50\n",
      "1563/1563 [==============================] - 10s 7ms/step - loss: 1.1611 - sparse_categorical_accuracy: 0.5741 - val_loss: 0.9930 - val_sparse_categorical_accuracy: 0.6499\n",
      "Epoch 7/50\n",
      "1563/1563 [==============================] - 12s 7ms/step - loss: 1.1156 - sparse_categorical_accuracy: 0.5918 - val_loss: 0.9588 - val_sparse_categorical_accuracy: 0.6595\n",
      "Epoch 8/50\n",
      "1563/1563 [==============================] - 10s 6ms/step - loss: 1.0947 - sparse_categorical_accuracy: 0.5997 - val_loss: 0.9783 - val_sparse_categorical_accuracy: 0.6593\n",
      "Epoch 9/50\n",
      "1563/1563 [==============================] - 10s 6ms/step - loss: 1.0569 - sparse_categorical_accuracy: 0.6164 - val_loss: 0.8301 - val_sparse_categorical_accuracy: 0.7122\n",
      "Epoch 10/50\n",
      "1563/1563 [==============================] - 9s 6ms/step - loss: 1.0202 - sparse_categorical_accuracy: 0.6265 - val_loss: 0.9444 - val_sparse_categorical_accuracy: 0.6768\n",
      "Epoch 11/50\n",
      "1563/1563 [==============================] - 10s 7ms/step - loss: 0.9929 - sparse_categorical_accuracy: 0.6392 - val_loss: 0.9863 - val_sparse_categorical_accuracy: 0.6631\n",
      "Epoch 12/50\n",
      "1563/1563 [==============================] - 10s 6ms/step - loss: 0.9637 - sparse_categorical_accuracy: 0.6545 - val_loss: 0.8771 - val_sparse_categorical_accuracy: 0.7069\n",
      "Epoch 13/50\n",
      "1563/1563 [==============================] - 10s 6ms/step - loss: 0.9265 - sparse_categorical_accuracy: 0.6684 - val_loss: 0.8101 - val_sparse_categorical_accuracy: 0.7185\n",
      "Epoch 14/50\n",
      "1563/1563 [==============================] - 11s 7ms/step - loss: 0.8847 - sparse_categorical_accuracy: 0.6877 - val_loss: 1.0036 - val_sparse_categorical_accuracy: 0.6541\n",
      "Epoch 15/50\n",
      "1563/1563 [==============================] - 10s 6ms/step - loss: 0.8603 - sparse_categorical_accuracy: 0.6975 - val_loss: 0.7522 - val_sparse_categorical_accuracy: 0.7430\n",
      "Epoch 16/50\n",
      "1563/1563 [==============================] - 11s 7ms/step - loss: 0.8475 - sparse_categorical_accuracy: 0.7037 - val_loss: 0.9562 - val_sparse_categorical_accuracy: 0.6797\n",
      "Epoch 17/50\n",
      "1563/1563 [==============================] - 10s 6ms/step - loss: 0.8303 - sparse_categorical_accuracy: 0.7100 - val_loss: 0.8082 - val_sparse_categorical_accuracy: 0.7289\n",
      "Epoch 18/50\n",
      "1563/1563 [==============================] - 10s 6ms/step - loss: 0.7979 - sparse_categorical_accuracy: 0.7207 - val_loss: 1.5293 - val_sparse_categorical_accuracy: 0.5702\n",
      "Epoch 19/50\n",
      "1563/1563 [==============================] - 10s 7ms/step - loss: 0.7780 - sparse_categorical_accuracy: 0.7294 - val_loss: 0.7267 - val_sparse_categorical_accuracy: 0.7569\n",
      "Epoch 20/50\n",
      "1563/1563 [==============================] - 10s 6ms/step - loss: 0.7570 - sparse_categorical_accuracy: 0.7376 - val_loss: 0.6728 - val_sparse_categorical_accuracy: 0.7710\n",
      "Epoch 21/50\n",
      "1563/1563 [==============================] - 10s 6ms/step - loss: 0.7436 - sparse_categorical_accuracy: 0.7443 - val_loss: 0.8394 - val_sparse_categorical_accuracy: 0.7133\n",
      "Epoch 22/50\n",
      "1563/1563 [==============================] - 10s 6ms/step - loss: 0.7193 - sparse_categorical_accuracy: 0.7513 - val_loss: 0.7976 - val_sparse_categorical_accuracy: 0.7324\n",
      "Epoch 23/50\n",
      "1563/1563 [==============================] - 10s 6ms/step - loss: 0.7143 - sparse_categorical_accuracy: 0.7546 - val_loss: 0.7197 - val_sparse_categorical_accuracy: 0.7542\n",
      "Epoch 24/50\n",
      "1563/1563 [==============================] - 10s 6ms/step - loss: 0.6971 - sparse_categorical_accuracy: 0.7576 - val_loss: 1.1519 - val_sparse_categorical_accuracy: 0.6541\n",
      "Epoch 25/50\n",
      "1563/1563 [==============================] - 10s 6ms/step - loss: 0.6870 - sparse_categorical_accuracy: 0.7622 - val_loss: 0.6694 - val_sparse_categorical_accuracy: 0.7740\n",
      "Epoch 26/50\n",
      "1563/1563 [==============================] - 10s 6ms/step - loss: 0.6767 - sparse_categorical_accuracy: 0.7677 - val_loss: 0.7013 - val_sparse_categorical_accuracy: 0.7688\n",
      "Epoch 27/50\n",
      "1563/1563 [==============================] - 10s 6ms/step - loss: 0.6681 - sparse_categorical_accuracy: 0.7700 - val_loss: 0.6947 - val_sparse_categorical_accuracy: 0.7666\n",
      "Epoch 28/50\n",
      "1563/1563 [==============================] - 10s 6ms/step - loss: 0.6544 - sparse_categorical_accuracy: 0.7742 - val_loss: 0.6907 - val_sparse_categorical_accuracy: 0.7734\n",
      "Epoch 29/50\n",
      "1563/1563 [==============================] - 10s 6ms/step - loss: 0.6481 - sparse_categorical_accuracy: 0.7764 - val_loss: 1.1159 - val_sparse_categorical_accuracy: 0.6652\n",
      "Epoch 30/50\n",
      "1563/1563 [==============================] - 10s 6ms/step - loss: 0.6355 - sparse_categorical_accuracy: 0.7829 - val_loss: 0.6694 - val_sparse_categorical_accuracy: 0.7779\n",
      "Epoch 31/50\n",
      "1563/1563 [==============================] - 10s 6ms/step - loss: 0.6254 - sparse_categorical_accuracy: 0.7828 - val_loss: 0.6217 - val_sparse_categorical_accuracy: 0.7916\n",
      "Epoch 32/50\n",
      "1563/1563 [==============================] - 10s 6ms/step - loss: 0.6112 - sparse_categorical_accuracy: 0.7901 - val_loss: 1.0759 - val_sparse_categorical_accuracy: 0.6864\n",
      "Epoch 33/50\n",
      "1563/1563 [==============================] - 10s 6ms/step - loss: 0.6118 - sparse_categorical_accuracy: 0.7896 - val_loss: 0.6112 - val_sparse_categorical_accuracy: 0.7972\n",
      "Epoch 34/50\n",
      "1563/1563 [==============================] - 10s 6ms/step - loss: 0.6033 - sparse_categorical_accuracy: 0.7920 - val_loss: 0.7490 - val_sparse_categorical_accuracy: 0.7569\n",
      "Epoch 35/50\n",
      "1563/1563 [==============================] - 10s 6ms/step - loss: 0.5896 - sparse_categorical_accuracy: 0.7985 - val_loss: 0.6340 - val_sparse_categorical_accuracy: 0.7973\n",
      "Epoch 36/50\n",
      "1563/1563 [==============================] - 10s 6ms/step - loss: 0.5836 - sparse_categorical_accuracy: 0.7979 - val_loss: 0.6656 - val_sparse_categorical_accuracy: 0.7836\n",
      "Epoch 37/50\n",
      "1563/1563 [==============================] - 10s 6ms/step - loss: 0.5826 - sparse_categorical_accuracy: 0.8013 - val_loss: 0.6437 - val_sparse_categorical_accuracy: 0.7868\n",
      "Epoch 38/50\n",
      "1563/1563 [==============================] - 11s 7ms/step - loss: 0.5707 - sparse_categorical_accuracy: 0.8026 - val_loss: 0.6935 - val_sparse_categorical_accuracy: 0.7799\n",
      "Epoch 39/50\n",
      "1563/1563 [==============================] - 10s 6ms/step - loss: 0.5682 - sparse_categorical_accuracy: 0.8038 - val_loss: 0.6169 - val_sparse_categorical_accuracy: 0.8006\n",
      "Epoch 40/50\n",
      "1563/1563 [==============================] - 10s 6ms/step - loss: 0.5624 - sparse_categorical_accuracy: 0.8035 - val_loss: 0.7702 - val_sparse_categorical_accuracy: 0.7558\n",
      "Epoch 41/50\n",
      "1563/1563 [==============================] - 10s 6ms/step - loss: 0.5555 - sparse_categorical_accuracy: 0.8091 - val_loss: 0.8913 - val_sparse_categorical_accuracy: 0.7277\n",
      "Epoch 42/50\n",
      "1563/1563 [==============================] - 10s 6ms/step - loss: 0.5461 - sparse_categorical_accuracy: 0.8128 - val_loss: 1.0923 - val_sparse_categorical_accuracy: 0.6964\n",
      "Epoch 43/50\n",
      "1563/1563 [==============================] - 10s 6ms/step - loss: 0.5458 - sparse_categorical_accuracy: 0.8104 - val_loss: 0.7539 - val_sparse_categorical_accuracy: 0.7668\n",
      "Epoch 44/50\n",
      "1563/1563 [==============================] - 10s 6ms/step - loss: 0.5374 - sparse_categorical_accuracy: 0.8122 - val_loss: 0.7169 - val_sparse_categorical_accuracy: 0.7780\n",
      "Epoch 45/50\n",
      "1563/1563 [==============================] - 10s 6ms/step - loss: 0.5393 - sparse_categorical_accuracy: 0.8143 - val_loss: 0.7363 - val_sparse_categorical_accuracy: 0.7653\n"
     ]
    },
    {
     "name": "stdout",
     "output_type": "stream",
     "text": [
      "Epoch 46/50\n",
      "1563/1563 [==============================] - 9s 6ms/step - loss: 0.5315 - sparse_categorical_accuracy: 0.8152 - val_loss: 0.6586 - val_sparse_categorical_accuracy: 0.7902\n",
      "Epoch 47/50\n",
      "1563/1563 [==============================] - 10s 6ms/step - loss: 0.5374 - sparse_categorical_accuracy: 0.8126 - val_loss: 0.7975 - val_sparse_categorical_accuracy: 0.7507\n",
      "Epoch 48/50\n",
      "1563/1563 [==============================] - 10s 6ms/step - loss: 0.5201 - sparse_categorical_accuracy: 0.8185 - val_loss: 0.6413 - val_sparse_categorical_accuracy: 0.8016\n",
      "Epoch 49/50\n",
      "1563/1563 [==============================] - 10s 6ms/step - loss: 0.5164 - sparse_categorical_accuracy: 0.8193 - val_loss: 0.6191 - val_sparse_categorical_accuracy: 0.8041\n",
      "Epoch 50/50\n",
      "1563/1563 [==============================] - 10s 6ms/step - loss: 0.5166 - sparse_categorical_accuracy: 0.8207 - val_loss: 0.7618 - val_sparse_categorical_accuracy: 0.7724\n"
     ]
    }
   ],
   "source": [
    "history = model.fit(x=X_train, y=Y_train, batch_size=32, epochs=50, validation_data=(X_test, Y_test))"
   ]
  },
  {
   "cell_type": "markdown",
   "id": "abae367e",
   "metadata": {},
   "source": [
    "### Check loss and accuracy of training and test set during training"
   ]
  },
  {
   "cell_type": "code",
   "execution_count": 9,
   "id": "f13a9154",
   "metadata": {},
   "outputs": [
    {
     "data": {
      "image/png": "[encoded data removed]",
      "text/plain": [
       "<Figure size 432x288 with 1 Axes>"
      ]
     },
     "metadata": {
      "needs_background": "light"
     },
     "output_type": "display_data"
    },
    {
     "data": {
      "image/png": "[encoded data removed]",
      "text/plain": [
       "<Figure size 432x288 with 1 Axes>"
      ]
     },
     "metadata": {
      "needs_background": "light"
     },
     "output_type": "display_data"
    }
   ],
   "source": [
    "plt.plot(history.history[\"loss\"])\n",
    "plt.plot(history.history[\"val_loss\"])\n",
    "plt.show()\n",
    "plt.plot(history.history[\"sparse_categorical_accuracy\"])\n",
    "plt.plot(history.history[\"val_sparse_categorical_accuracy\"])\n",
    "plt.show()"
   ]
  },
  {
   "cell_type": "code",
   "execution_count": 10,
   "id": "caa8418b",
   "metadata": {},
   "outputs": [
    {
     "name": "stdout",
     "output_type": "stream",
     "text": [
      "1/1 [==============================] - 0s 209ms/step\n",
      "[[1.9198750e-01 2.8582435e-06 2.5748116e-01 1.2678906e-02 9.9503456e+01\n",
      "  4.0120063e-03 2.6712945e-02 1.9664112e-03 1.6086954e-03 1.0155028e-04]]\n",
      "0.9950346\n",
      "4\n",
      "[4]\n"
     ]
    },
    {
     "data": {
      "text/plain": [
       "<matplotlib.image.AxesImage at 0x7f4c8c545580>"
      ]
     },
     "execution_count": 10,
     "metadata": {},
     "output_type": "execute_result"
    },
    {
     "data": {
      "image/png": "[encoded data removed]",
      "text/plain": [
       "<Figure size 432x288 with 1 Axes>"
      ]
     },
     "metadata": {
      "needs_background": "light"
     },
     "output_type": "display_data"
    }
   ],
   "source": [
    "# Run prediction for an image\n",
    "index = 22\n",
    "probabilities = model.predict(np.expand_dims(X_test[index], 0))\n",
    "print(100*probabilities)\n",
    "print(np.max(probabilities))\n",
    "print(np.argmax(probabilities))\n",
    "print(Y_test[index])\n",
    "plt.imshow(X_test[index])"
   ]
  },
  {
   "cell_type": "code",
   "execution_count": null,
   "id": "f7234768",
   "metadata": {},
   "outputs": [],
   "source": []
  },
  {
   "cell_type": "code",
   "execution_count": null,
   "id": "0959f5f7",
   "metadata": {},
   "outputs": [],
   "source": []
  }
 ],
 "metadata": {
  "kernelspec": {
   "display_name": "Python 3 (ipykernel)",
   "language": "python",
   "name": "python3"
  },
  "language_info": {
   "codemirror_mode": {
    "name": "ipython",
    "version": 3
   },
   "file_extension": ".py",
   "mimetype": "text/x-python",
   "name": "python",
   "nbconvert_exporter": "python",
   "pygments_lexer": "ipython3",
   "version": "3.8.10"
  }
 },
 "nbformat": 4,
 "nbformat_minor": 5
}

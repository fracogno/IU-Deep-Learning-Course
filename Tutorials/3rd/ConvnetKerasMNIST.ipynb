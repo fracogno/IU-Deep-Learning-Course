{
 "cells": [
  {
   "cell_type": "markdown",
   "metadata": {
    "colab_type": "text",
    "id": "iqp4JcrUIh5a"
   },
   "source": [
    "# Convolutional Network in Keras\n",
    "\n",
    "Convolutional neural networks (CNN) play an important part in modern machine learning applications as they allow us to automatically analyze a wide range of data such as images or text. CNNs are used to detect features of the data automatically, for example, if an image is analyzed by a CNN, the CNN can be trained to tell cats apart from dogs.\n",
    "\n",
    "A well known practice dataset for image recognition is the MNIST dataset The data contain a large number of handwritten digits in the range 0 - 9 and the task focuses on recognizing the images. The task was pioneered by Yann LeCun and others in 1998 ([original paper](http://yann.lecun.com/exdb/publis/pdf/lecun-98.pdf) [Yann LeCun's Webpage for MNIST](http://yann.lecun.com/exdb/lenet/)). \n",
    "\n",
    "The images are snippets of 28 pixels x 28 pixels = 784 pixels and there are n=10 digits to recognize."
   ]
  },
  {
   "cell_type": "code",
   "execution_count": 1,
   "metadata": {
    "colab": {
     "base_uri": "https://localhost:8080/",
     "height": 51
    },
    "colab_type": "code",
    "executionInfo": {
     "elapsed": 3678,
     "status": "ok",
     "timestamp": 1588871807893,
     "user": {
      "displayName": "Ulrich Kerzel",
      "photoUrl": "https://lh3.googleusercontent.com/a-/AOh14GgUe7aETi8_2hp0GY6lXuHo8CbZgw1Wjq6SJtE-ow=s64",
      "userId": "10582137377195463323"
     },
     "user_tz": -120
    },
    "id": "E6UZGhcGIh5b",
    "outputId": "4359c21e-6e98-4bfb-b852-5d066c277d5a"
   },
   "outputs": [
    {
     "name": "stderr",
     "output_type": "stream",
     "text": [
      "2023-01-24 22:55:46.653386: I tensorflow/core/platform/cpu_feature_guard.cc:193] This TensorFlow binary is optimized with oneAPI Deep Neural Network Library (oneDNN) to use the following CPU instructions in performance-critical operations:  AVX2 FMA\n",
      "To enable them in other operations, rebuild TensorFlow with the appropriate compiler flags.\n",
      "2023-01-24 22:55:48.237266: W tensorflow/compiler/xla/stream_executor/platform/default/dso_loader.cc:64] Could not load dynamic library 'libnvinfer.so.7'; dlerror: libnvinfer.so.7: cannot open shared object file: No such file or directory; LD_LIBRARY_PATH: /home/francesco/Downloads/cuda/lib64:/usr/local/cuda-11.2/lib64\n",
      "2023-01-24 22:55:48.237358: W tensorflow/compiler/xla/stream_executor/platform/default/dso_loader.cc:64] Could not load dynamic library 'libnvinfer_plugin.so.7'; dlerror: libnvinfer_plugin.so.7: cannot open shared object file: No such file or directory; LD_LIBRARY_PATH: /home/francesco/Downloads/cuda/lib64:/usr/local/cuda-11.2/lib64\n",
      "2023-01-24 22:55:48.237367: W tensorflow/compiler/tf2tensorrt/utils/py_utils.cc:38] TF-TRT Warning: Cannot dlopen some TensorRT libraries. If you would like to use Nvidia GPU with TensorRT, please make sure the missing libraries mentioned above are installed properly.\n"
     ]
    },
    {
     "name": "stdout",
     "output_type": "stream",
     "text": [
      "Populating the interactive namespace from numpy and matplotlib\n",
      "2.11.0\n"
     ]
    }
   ],
   "source": [
    "# imports\n",
    "import numpy as np\n",
    "import matplotlib.pyplot as plt\n",
    "import tensorflow as tf\n",
    "import datetime as dt\n",
    "from sklearn.metrics import confusion_matrix\n",
    "\n",
    "%pylab inline\n",
    "# large figures\n",
    "rcParams['figure.figsize'] = 8, 6\n",
    "\n",
    "print(tf.__version__)"
   ]
  },
  {
   "cell_type": "markdown",
   "metadata": {
    "colab_type": "text",
    "id": "frXZ_m1hIh5h"
   },
   "source": [
    "## Loading the Data\n",
    "\n",
    "As this is a popular dataset to get to know CNNs, the data are available as part of TensorFlow:\n",
    "\n",
    "There are 6,000 images available, each with a size of 28x28 pixels.\n",
    "The \"shape\" of the dataset is therefore $(28,28)$."
   ]
  },
  {
   "cell_type": "code",
   "execution_count": 2,
   "metadata": {
    "colab": {
     "base_uri": "https://localhost:8080/",
     "height": 68
    },
    "colab_type": "code",
    "executionInfo": {
     "elapsed": 1736,
     "status": "ok",
     "timestamp": 1588871811233,
     "user": {
      "displayName": "Ulrich Kerzel",
      "photoUrl": "https://lh3.googleusercontent.com/a-/AOh14GgUe7aETi8_2hp0GY6lXuHo8CbZgw1Wjq6SJtE-ow=s64",
      "userId": "10582137377195463323"
     },
     "user_tz": -120
    },
    "id": "u44Cg21IIh5j",
    "outputId": "11f7b795-7c34-452f-c4e2-d8568ffbadc4"
   },
   "outputs": [
    {
     "name": "stdout",
     "output_type": "stream",
     "text": [
      "(60000, 28, 28)\n"
     ]
    }
   ],
   "source": [
    "(x_train, y_train), (x_test, y_test) = tf.keras.datasets.mnist.load_data()\n",
    "print(x_train.shape)"
   ]
  },
  {
   "cell_type": "markdown",
   "metadata": {
    "colab_type": "text",
    "id": "57Z_o_cyIh5p"
   },
   "source": [
    "The images look like this:"
   ]
  },
  {
   "cell_type": "code",
   "execution_count": 3,
   "metadata": {
    "colab": {
     "base_uri": "https://localhost:8080/",
     "height": 391
    },
    "colab_type": "code",
    "executionInfo": {
     "elapsed": 1388,
     "status": "ok",
     "timestamp": 1588871814677,
     "user": {
      "displayName": "Ulrich Kerzel",
      "photoUrl": "https://lh3.googleusercontent.com/a-/AOh14GgUe7aETi8_2hp0GY6lXuHo8CbZgw1Wjq6SJtE-ow=s64",
      "userId": "10582137377195463323"
     },
     "user_tz": -120
    },
    "id": "JnpwmAQTIh5q",
    "outputId": "8f7f2d36-3baa-4a10-98d3-da874e270683"
   },
   "outputs": [
    {
     "name": "stdout",
     "output_type": "stream",
     "text": [
      "True label: 3\n"
     ]
    },
    {
     "data": {
      "image/png": "[encoded data removed]",
      "text/plain": [
       "<Figure size 576x432 with 1 Axes>"
      ]
     },
     "metadata": {
      "needs_background": "light"
     },
     "output_type": "display_data"
    }
   ],
   "source": [
    "index = 1234\n",
    "print('True label: {}'.format(y_train[index]) )\n",
    "plt.imshow(x_train[index], cmap='Greys')\n",
    "plt.show()"
   ]
  },
  {
   "cell_type": "markdown",
   "metadata": {
    "colab_type": "text",
    "id": "k2_Ds9yHIh5w"
   },
   "source": [
    "First, we make the shape of the input tensor we will use in our model explicit:\n",
    " * length of the trainings and test tensor\n",
    " * 28x28 pixels\n",
    " * grayscale (1 colour)\n",
    "\n",
    "We also need to normalize the color range by dividing by 255 (RGB range).\n",
    "In addition, we cast the values to floating point numbers with 32-bit accuracy so they all have a well-defined state."
   ]
  },
  {
   "cell_type": "code",
   "execution_count": 4,
   "metadata": {
    "colab": {
     "base_uri": "https://localhost:8080/",
     "height": 34
    },
    "colab_type": "code",
    "executionInfo": {
     "elapsed": 1349,
     "status": "ok",
     "timestamp": 1588871818649,
     "user": {
      "displayName": "Ulrich Kerzel",
      "photoUrl": "https://lh3.googleusercontent.com/a-/AOh14GgUe7aETi8_2hp0GY6lXuHo8CbZgw1Wjq6SJtE-ow=s64",
      "userId": "10582137377195463323"
     },
     "user_tz": -120
    },
    "id": "NwiYfNUVIh5x",
    "outputId": "7b56319e-d437-4e1e-c3d3-31d17e4ff543"
   },
   "outputs": [
    {
     "name": "stdout",
     "output_type": "stream",
     "text": [
      "Final shape of input tensor (60000, 28, 28, 1)\n"
     ]
    }
   ],
   "source": [
    "x_train = x_train.reshape(x_train.shape[0], 28, 28, 1).astype('float32')\n",
    "x_test = x_test.reshape(x_test.shape[0], 28, 28, 1).astype('float32')\n",
    "\n",
    "\n",
    "x_train = x_train/255\n",
    "x_test = x_test/255\n",
    "\n",
    "print('Final shape of input tensor {}'.format(x_train.shape))\n"
   ]
  },
  {
   "cell_type": "markdown",
   "metadata": {
    "colab_type": "text",
    "id": "keKEXIiIIh54"
   },
   "source": [
    "## A Simple Model\n",
    "\n",
    "We start with a very simple model that has only one convolutional layer.\n",
    "We then add one fully connected (or dense) layer with ReLU activation function \n",
    "and then use a fully connected layer with 10 nodes (one for each digit in $0,\\ldots,9$)\n",
    "with softmax activation. The latter converts the output of the nodes into a probability.\n",
    "\n",
    "We also add a dropout layer after the first fully connected layer to regularize the network.\n",
    "Remember that we have to [\"flatten\"](https://www.tensorflow.org/api_docs/python/tf/keras/layers/Flatten) the last convolutional layer to sqash the image structure into a long, one-dimensional feature vector that is processed by the fully-connected layer.\n",
    "\n",
    "Using the Keras interface, the model is then:"
   ]
  },
  {
   "cell_type": "code",
   "execution_count": 15,
   "metadata": {
    "colab": {
     "base_uri": "https://localhost:8080/",
     "height": 357
    },
    "colab_type": "code",
    "executionInfo": {
     "elapsed": 879,
     "status": "ok",
     "timestamp": 1588874307051,
     "user": {
      "displayName": "Ulrich Kerzel",
      "photoUrl": "https://lh3.googleusercontent.com/a-/AOh14GgUe7aETi8_2hp0GY6lXuHo8CbZgw1Wjq6SJtE-ow=s64",
      "userId": "10582137377195463323"
     },
     "user_tz": -120
    },
    "id": "ByvyJj-oIh55",
    "outputId": "1a51a174-60c4-47ad-81ec-9094b459520b"
   },
   "outputs": [
    {
     "name": "stdout",
     "output_type": "stream",
     "text": [
      "Model: \"SimpleModel\"\n",
      "_________________________________________________________________\n",
      " Layer (type)                Output Shape              Param #   \n",
      "=================================================================\n",
      " conv2d_1 (Conv2D)           (None, 26, 26, 32)        320       \n",
      "                                                                 \n",
      " max_pooling2d_1 (MaxPooling  (None, 13, 13, 32)       0         \n",
      " 2D)                                                             \n",
      "                                                                 \n",
      " flatten_1 (Flatten)         (None, 5408)              0         \n",
      "                                                                 \n",
      " dense_2 (Dense)             (None, 128)               692352    \n",
      "                                                                 \n",
      " dropout_1 (Dropout)         (None, 128)               0         \n",
      "                                                                 \n",
      " dense_3 (Dense)             (None, 10)                1290      \n",
      "                                                                 \n",
      "=================================================================\n",
      "Total params: 693,962\n",
      "Trainable params: 693,962\n",
      "Non-trainable params: 0\n",
      "_________________________________________________________________\n"
     ]
    }
   ],
   "source": [
    "model = tf.keras.Sequential(name='SimpleModel')\n",
    "model.add(tf.keras.layers.Conv2D(filters=32, \n",
    "                                 kernel_size=(3,3), \n",
    "                                 strides=(1,1),\n",
    "                                 padding='valid',\n",
    "                                 activation='relu', \n",
    "                                 input_shape=(28,28,1)))\n",
    "model.add(tf.keras.layers.MaxPooling2D(pool_size=(2, 2)))\n",
    "\n",
    "# flatten the 2D convolution layers before adding a fully connected (dense) layer\n",
    "model.add(tf.keras.layers.Flatten())\n",
    "model.add(tf.keras.layers.Dense(128,activation=tf.nn.relu))\n",
    "\n",
    "#add dropout for regularisation\n",
    "model.add(tf.keras.layers.Dropout(0.5))\n",
    "\n",
    "# final fully connected (dense) layer which returns a probability for each of the digits 0...9\n",
    "model.add(tf.keras.layers.Dense(10,activation=tf.nn.softmax))\n",
    "\n",
    "\n",
    "model.summary()"
   ]
  },
  {
   "cell_type": "markdown",
   "metadata": {
    "colab_type": "text",
    "id": "rZXC-UgvIh5-"
   },
   "source": [
    "Note that even this simple model has almost 700,000 free parameters (network weights) that need to be optimized.\n",
    "\n",
    "We now specify how we train the network.\n",
    "We need to specify the optimizer used during training. Several choices exist, as a good practice, the Adam Optimizer (See the [paper](https://arxiv.org/abs/1412.6980) and the [documentation](https://www.tensorflow.org/api_docs/python/tf/keras/optimizers/Adam) for more details) is a good starting point.\n",
    "\n",
    "We also use cross-entropy for the loss function as this is a classification problem.\n",
    "\n",
    "Furthermore, we add the accuracy as the metric we want to monitor during network training.\n"
   ]
  },
  {
   "cell_type": "code",
   "execution_count": 20,
   "metadata": {
    "colab": {},
    "colab_type": "code",
    "id": "CM635GEJIh5_"
   },
   "outputs": [],
   "source": [
    "model.compile(\n",
    "    optimizer = tf.keras.optimizers.Adam(learning_rate=1e-3),\n",
    "    loss = tf.keras.losses.SparseCategoricalCrossentropy(from_logits=False),\n",
    "    metrics = [tf.keras.metrics.SparseCategoricalAccuracy()]\n",
    ")"
   ]
  },
  {
   "cell_type": "markdown",
   "metadata": {
    "colab_type": "text",
    "id": "kFEnxiGoIh6F"
   },
   "source": [
    "We then train the model by calling ```model.fit()``` using 15 epochs to complete the training quickly. We also use a batch_size of 32, i.e., the images are presented to the network in batches of 32.\n",
    "\n",
    "We store the history of the training process in the ```history``` object\n",
    "in order to plot the values of the loss function and the accuracy during the training process afterwards."
   ]
  },
  {
   "cell_type": "code",
   "execution_count": 21,
   "metadata": {
    "colab": {
     "base_uri": "https://localhost:8080/",
     "height": 527
    },
    "colab_type": "code",
    "executionInfo": {
     "elapsed": 117884,
     "status": "ok",
     "timestamp": 1588874430498,
     "user": {
      "displayName": "Ulrich Kerzel",
      "photoUrl": "https://lh3.googleusercontent.com/a-/AOh14GgUe7aETi8_2hp0GY6lXuHo8CbZgw1Wjq6SJtE-ow=s64",
      "userId": "10582137377195463323"
     },
     "user_tz": -120
    },
    "id": "LT0xrHUvIh6G",
    "outputId": "d7dce26d-8522-458c-a4ed-57ba257f4332"
   },
   "outputs": [
    {
     "name": "stdout",
     "output_type": "stream",
     "text": [
      "Epoch 1/10\n",
      "1875/1875 [==============================] - 7s 3ms/step - loss: 0.1059 - sparse_categorical_accuracy: 0.9681 - val_loss: 0.0496 - val_sparse_categorical_accuracy: 0.9829\n",
      "Epoch 2/10\n",
      "1875/1875 [==============================] - 6s 3ms/step - loss: 0.0786 - sparse_categorical_accuracy: 0.9763 - val_loss: 0.0434 - val_sparse_categorical_accuracy: 0.9845\n",
      "Epoch 3/10\n",
      "1875/1875 [==============================] - 6s 3ms/step - loss: 0.0636 - sparse_categorical_accuracy: 0.9792 - val_loss: 0.0425 - val_sparse_categorical_accuracy: 0.9854\n",
      "Epoch 4/10\n",
      "1875/1875 [==============================] - 6s 3ms/step - loss: 0.0531 - sparse_categorical_accuracy: 0.9829 - val_loss: 0.0387 - val_sparse_categorical_accuracy: 0.9874\n",
      "Epoch 5/10\n",
      "1875/1875 [==============================] - 6s 3ms/step - loss: 0.0445 - sparse_categorical_accuracy: 0.9856 - val_loss: 0.0413 - val_sparse_categorical_accuracy: 0.9871\n",
      "Epoch 6/10\n",
      "1875/1875 [==============================] - 6s 3ms/step - loss: 0.0374 - sparse_categorical_accuracy: 0.9877 - val_loss: 0.0359 - val_sparse_categorical_accuracy: 0.9890\n",
      "Epoch 7/10\n",
      "1875/1875 [==============================] - 6s 3ms/step - loss: 0.0323 - sparse_categorical_accuracy: 0.9892 - val_loss: 0.0407 - val_sparse_categorical_accuracy: 0.9871\n",
      "Epoch 8/10\n",
      "1875/1875 [==============================] - 5s 3ms/step - loss: 0.0295 - sparse_categorical_accuracy: 0.9907 - val_loss: 0.0426 - val_sparse_categorical_accuracy: 0.9878\n",
      "Epoch 9/10\n",
      "1875/1875 [==============================] - 5s 3ms/step - loss: 0.0262 - sparse_categorical_accuracy: 0.9913 - val_loss: 0.0396 - val_sparse_categorical_accuracy: 0.9887\n",
      "Epoch 10/10\n",
      "1875/1875 [==============================] - 5s 3ms/step - loss: 0.0231 - sparse_categorical_accuracy: 0.9921 - val_loss: 0.0452 - val_sparse_categorical_accuracy: 0.9886\n"
     ]
    }
   ],
   "source": [
    "history = model.fit(x_train,y_train,\n",
    "                    epochs=10,\n",
    "                    batch_size=32,\n",
    "                    validation_data=(x_test, y_test))"
   ]
  },
  {
   "cell_type": "markdown",
   "metadata": {
    "colab_type": "text",
    "id": "NyG-UbP1Ih6L"
   },
   "source": [
    "Keras also provides a convenient function to evaluate the performance on the independent test data we have retained."
   ]
  },
  {
   "cell_type": "code",
   "execution_count": 22,
   "metadata": {
    "colab": {
     "base_uri": "https://localhost:8080/",
     "height": 51
    },
    "colab_type": "code",
    "executionInfo": {
     "elapsed": 1856,
     "status": "ok",
     "timestamp": 1588874438175,
     "user": {
      "displayName": "Ulrich Kerzel",
      "photoUrl": "https://lh3.googleusercontent.com/a-/AOh14GgUe7aETi8_2hp0GY6lXuHo8CbZgw1Wjq6SJtE-ow=s64",
      "userId": "10582137377195463323"
     },
     "user_tz": -120
    },
    "id": "nzj2CKXuIh6M",
    "outputId": "ab4999d3-5af8-4371-b4ce-6aa8f419d8f6"
   },
   "outputs": [
    {
     "name": "stdout",
     "output_type": "stream",
     "text": [
      "313/313 [==============================] - 1s 2ms/step - loss: 0.0452 - sparse_categorical_accuracy: 0.9886\n"
     ]
    },
    {
     "data": {
      "text/plain": [
       "[0.045228540897369385, 0.9886000156402588]"
      ]
     },
     "execution_count": 22,
     "metadata": {},
     "output_type": "execute_result"
    }
   ],
   "source": [
    "model.evaluate(x_test,y_test)"
   ]
  },
  {
   "cell_type": "code",
   "execution_count": 23,
   "metadata": {
    "colab": {
     "base_uri": "https://localhost:8080/",
     "height": 392
    },
    "colab_type": "code",
    "executionInfo": {
     "elapsed": 1193,
     "status": "ok",
     "timestamp": 1588874461225,
     "user": {
      "displayName": "Ulrich Kerzel",
      "photoUrl": "https://lh3.googleusercontent.com/a-/AOh14GgUe7aETi8_2hp0GY6lXuHo8CbZgw1Wjq6SJtE-ow=s64",
      "userId": "10582137377195463323"
     },
     "user_tz": -120
    },
    "id": "6GHB1aAyS_e5",
    "outputId": "d5148fcf-09c6-4eb0-c07a-d854ea69fc01"
   },
   "outputs": [
    {
     "data": {
      "image/png": "[encoded data removed]",
      "text/plain": [
       "<Figure size 576x432 with 2 Axes>"
      ]
     },
     "metadata": {
      "needs_background": "light"
     },
     "output_type": "display_data"
    }
   ],
   "source": [
    "history_dict = history.history\n",
    "history_dict.keys()\n",
    "loss_values = history_dict['loss']\n",
    "acc_values = history_dict['sparse_categorical_accuracy']\n",
    "epochs = range(1, len(loss_values) + 1)\n",
    "\n",
    "fig, axes = plt.subplots(2, sharex=True)\n",
    "axes[0].set_ylabel(\"Loss\", fontsize=14)\n",
    "axes[0].plot(loss_values)\n",
    "axes[0].plot(history_dict['val_loss'])\n",
    "axes[1].set_ylabel(\"Accuracy\", fontsize=14)\n",
    "axes[1].set_xlabel(\"Iteration\", fontsize=14)\n",
    "axes[1].plot(acc_values)\n",
    "axes[1].plot(history_dict['val_sparse_categorical_accuracy'])\n",
    "plt.show()"
   ]
  },
  {
   "cell_type": "markdown",
   "metadata": {
    "colab_type": "text",
    "id": "1Cpw6-XdIh6Q"
   },
   "source": [
    "The model achieves an accuracy of about 99% on an independent test sample, which is ok for a simple model. More complex models can achieve even higher accuracies, a summary can be found on Yann LeCuns [MNIST page](http://yann.lecun.com/exdb/mnist/index.html)\n",
    "\n",
    "We can also make some predictions and look at the confusion matrix."
   ]
  },
  {
   "cell_type": "code",
   "execution_count": 24,
   "metadata": {
    "colab": {},
    "colab_type": "code",
    "id": "n-H1TDLyIh6Q"
   },
   "outputs": [
    {
     "name": "stdout",
     "output_type": "stream",
     "text": [
      "313/313 [==============================] - 1s 1ms/step\n"
     ]
    }
   ],
   "source": [
    "predictions = model.predict(x_test)\n",
    "y_hat = tf.argmax(predictions, axis=1)"
   ]
  },
  {
   "cell_type": "code",
   "execution_count": 25,
   "metadata": {
    "colab": {
     "base_uri": "https://localhost:8080/",
     "height": 542
    },
    "colab_type": "code",
    "executionInfo": {
     "elapsed": 984,
     "status": "ok",
     "timestamp": 1588874594648,
     "user": {
      "displayName": "Ulrich Kerzel",
      "photoUrl": "https://lh3.googleusercontent.com/a-/AOh14GgUe7aETi8_2hp0GY6lXuHo8CbZgw1Wjq6SJtE-ow=s64",
      "userId": "10582137377195463323"
     },
     "user_tz": -120
    },
    "id": "edrKU_3oIh6U",
    "outputId": "99f356b5-49d9-4dc1-b7d4-3f5cc5cd55a6"
   },
   "outputs": [
    {
     "name": "stdout",
     "output_type": "stream",
     "text": [
      "[[ 973    1    2    0    0    0    2    1    1    0]\n",
      " [   0 1135    0    0    0    0    0    0    0    0]\n",
      " [   1    1 1022    0    2    0    1    5    0    0]\n",
      " [   0    0    4  999    0    3    0    3    1    0]\n",
      " [   1    0    0    0  975    0    1    0    1    4]\n",
      " [   2    1    0    8    0  874    5    0    1    1]\n",
      " [   5    3    1    0    1    1  944    0    3    0]\n",
      " [   1    2    6    0    0    0    0 1017    1    1]\n",
      " [   5    1    2    1    3    0    0    2  956    4]\n",
      " [   1    3    0    2    5    0    0    4    3  991]]\n"
     ]
    },
    {
     "data": {
      "image/png": "[encoded data removed]",
      "text/plain": [
       "<Figure size 432x432 with 2 Axes>"
      ]
     },
     "metadata": {
      "needs_background": "light"
     },
     "output_type": "display_data"
    }
   ],
   "source": [
    "# Compute confusion matrix\n",
    "cm = confusion_matrix(y_test,y_hat)\n",
    "\n",
    "print(cm)\n",
    "\n",
    "# Show confusion matrix \n",
    "plt.matshow(cm, cmap='seismic')\n",
    "plt.title('Confusion matrix')\n",
    "plt.colorbar()\n",
    "plt.ylabel('True label')\n",
    "plt.xlabel('Predicted label')\n",
    "plt.show()"
   ]
  },
  {
   "cell_type": "code",
   "execution_count": null,
   "metadata": {
    "colab": {},
    "colab_type": "code",
    "id": "pkTyPX4QIh6q"
   },
   "outputs": [],
   "source": []
  }
 ],
 "metadata": {
  "accelerator": "GPU",
  "colab": {
   "collapsed_sections": [],
   "name": "ConvnetKerasMNIST.ipynb",
   "provenance": []
  },
  "kernelspec": {
   "display_name": "Python 3 (ipykernel)",
   "language": "python",
   "name": "python3"
  },
  "language_info": {
   "codemirror_mode": {
    "name": "ipython",
    "version": 3
   },
   "file_extension": ".py",
   "mimetype": "text/x-python",
   "name": "python",
   "nbconvert_exporter": "python",
   "pygments_lexer": "ipython3",
   "version": "3.8.10"
  }
 },
 "nbformat": 4,
 "nbformat_minor": 1
}

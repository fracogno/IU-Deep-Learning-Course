{
 "cells": [
  {
   "cell_type": "code",
   "execution_count": 1,
   "id": "9e4fccbf",
   "metadata": {},
   "outputs": [
    {
     "name": "stderr",
     "output_type": "stream",
     "text": [
      "2023-01-24 23:21:20.146215: I tensorflow/core/platform/cpu_feature_guard.cc:193] This TensorFlow binary is optimized with oneAPI Deep Neural Network Library (oneDNN) to use the following CPU instructions in performance-critical operations:  AVX2 FMA\n",
      "To enable them in other operations, rebuild TensorFlow with the appropriate compiler flags.\n",
      "2023-01-24 23:21:21.079292: W tensorflow/compiler/xla/stream_executor/platform/default/dso_loader.cc:64] Could not load dynamic library 'libnvinfer.so.7'; dlerror: libnvinfer.so.7: cannot open shared object file: No such file or directory; LD_LIBRARY_PATH: /home/francesco/Downloads/cuda/lib64:/usr/local/cuda-11.2/lib64\n",
      "2023-01-24 23:21:21.079372: W tensorflow/compiler/xla/stream_executor/platform/default/dso_loader.cc:64] Could not load dynamic library 'libnvinfer_plugin.so.7'; dlerror: libnvinfer_plugin.so.7: cannot open shared object file: No such file or directory; LD_LIBRARY_PATH: /home/francesco/Downloads/cuda/lib64:/usr/local/cuda-11.2/lib64\n",
      "2023-01-24 23:21:21.079380: W tensorflow/compiler/tf2tensorrt/utils/py_utils.cc:38] TF-TRT Warning: Cannot dlopen some TensorRT libraries. If you would like to use Nvidia GPU with TensorRT, please make sure the missing libraries mentioned above are installed properly.\n"
     ]
    }
   ],
   "source": [
    "import numpy as np\n",
    "import matplotlib.pyplot as plt\n",
    "import tensorflow as tf\n",
    "import datetime as dt\n",
    "import os\n",
    "os.environ[\"CUDA_VISIBLE_DEVICES\"] = \"-1\""
   ]
  },
  {
   "cell_type": "markdown",
   "id": "79634858",
   "metadata": {},
   "source": [
    "### Load data and flatten"
   ]
  },
  {
   "cell_type": "code",
   "execution_count": 2,
   "id": "c26e9dc4",
   "metadata": {},
   "outputs": [
    {
     "name": "stdout",
     "output_type": "stream",
     "text": [
      "(60000, 28, 28)\n"
     ]
    }
   ],
   "source": [
    "(x_train, y_train), (x_test, y_test) = tf.keras.datasets.mnist.load_data()\n",
    "print(x_train.shape)"
   ]
  },
  {
   "cell_type": "code",
   "execution_count": 3,
   "id": "17372952",
   "metadata": {},
   "outputs": [
    {
     "name": "stdout",
     "output_type": "stream",
     "text": [
      "True label: 3\n"
     ]
    },
    {
     "data": {
      "image/png": "[encoded data removed]",
      "text/plain": [
       "<Figure size 432x288 with 1 Axes>"
      ]
     },
     "metadata": {
      "needs_background": "light"
     },
     "output_type": "display_data"
    }
   ],
   "source": [
    "index = 1234\n",
    "print('True label: {}'.format(y_train[index]) )\n",
    "plt.imshow(x_train[index], cmap='Greys')\n",
    "plt.show()"
   ]
  },
  {
   "cell_type": "code",
   "execution_count": 4,
   "id": "983c8605",
   "metadata": {},
   "outputs": [
    {
     "name": "stdout",
     "output_type": "stream",
     "text": [
      "Final shape of input tensor (60000, 784)\n"
     ]
    }
   ],
   "source": [
    "x_train = x_train.reshape(x_train.shape[0], 28*28).astype('float32')\n",
    "x_test = x_test.reshape(x_test.shape[0], 28*28).astype('float32')\n",
    "\n",
    "x_train = x_train/255\n",
    "x_test = x_test/255\n",
    "\n",
    "print('Final shape of input tensor {}'.format(x_train.shape))\n"
   ]
  },
  {
   "cell_type": "markdown",
   "id": "5928c600",
   "metadata": {},
   "source": [
    "### Tensorflow Dataset"
   ]
  },
  {
   "cell_type": "code",
   "execution_count": 5,
   "id": "73280947",
   "metadata": {},
   "outputs": [
    {
     "name": "stderr",
     "output_type": "stream",
     "text": [
      "2023-01-24 23:21:22.893653: E tensorflow/compiler/xla/stream_executor/cuda/cuda_driver.cc:267] failed call to cuInit: CUDA_ERROR_NO_DEVICE: no CUDA-capable device is detected\n",
      "2023-01-24 23:21:22.893693: I tensorflow/compiler/xla/stream_executor/cuda/cuda_diagnostics.cc:169] retrieving CUDA diagnostic information for host: francesco-15IMH05\n",
      "2023-01-24 23:21:22.893701: I tensorflow/compiler/xla/stream_executor/cuda/cuda_diagnostics.cc:176] hostname: francesco-15IMH05\n",
      "2023-01-24 23:21:22.893804: I tensorflow/compiler/xla/stream_executor/cuda/cuda_diagnostics.cc:200] libcuda reported version is: 470.161.3\n",
      "2023-01-24 23:21:22.893833: I tensorflow/compiler/xla/stream_executor/cuda/cuda_diagnostics.cc:204] kernel reported version is: 470.161.3\n",
      "2023-01-24 23:21:22.893839: I tensorflow/compiler/xla/stream_executor/cuda/cuda_diagnostics.cc:310] kernel version seems to match DSO: 470.161.3\n",
      "2023-01-24 23:21:22.894168: I tensorflow/core/platform/cpu_feature_guard.cc:193] This TensorFlow binary is optimized with oneAPI Deep Neural Network Library (oneDNN) to use the following CPU instructions in performance-critical operations:  AVX2 FMA\n",
      "To enable them in other operations, rebuild TensorFlow with the appropriate compiler flags.\n"
     ]
    }
   ],
   "source": [
    "class MyModel(tf.keras.Model):\n",
    "    def __init__(self):\n",
    "        super(MyModel, self).__init__()\n",
    "        self.d1 = tf.keras.layers.Dense(64, activation=\"relu\")\n",
    "        self.d2 = tf.keras.layers.Dense(32, activation=\"relu\")\n",
    "        self.d3 = tf.keras.layers.Dense(10, activation=None)\n",
    "    \n",
    "    def call(self, x):\n",
    "        x = self.d1(x)\n",
    "        x = self.d2(x)\n",
    "        return self.d3(x)\n",
    "\n",
    "# Create an instance of the model\n",
    "model = MyModel()\n",
    "\n",
    "# Loss and optimizer\n",
    "loss_object = tf.keras.losses.SparseCategoricalCrossentropy(from_logits=True)\n",
    "optimizer = tf.keras.optimizers.Adam(learning_rate=1e-3)\n",
    "\n",
    "# Monitoring metrics\n",
    "train_loss = tf.keras.metrics.Mean(name='train_loss')\n",
    "train_accuracy = tf.keras.metrics.SparseCategoricalAccuracy(name='train_accuracy')\n",
    "\n",
    "test_loss = tf.keras.metrics.Mean(name='test_loss')\n",
    "test_accuracy = tf.keras.metrics.SparseCategoricalAccuracy(name='test_accuracy')\n"
   ]
  },
  {
   "cell_type": "code",
   "execution_count": 6,
   "id": "6f64028b",
   "metadata": {},
   "outputs": [],
   "source": [
    "@tf.function\n",
    "def train_step(images, labels):\n",
    "    with tf.GradientTape() as tape:\n",
    "        predictions = model(images, training=True)\n",
    "        loss = loss_object(labels, predictions)\n",
    "    gradients = tape.gradient(loss, model.trainable_variables)\n",
    "    optimizer.apply_gradients(zip(gradients, model.trainable_variables))\n",
    "    \n",
    "    train_loss(loss)\n",
    "    train_accuracy(labels, predictions)\n",
    "\n",
    "    \n",
    "@tf.function\n",
    "def test_step(images, labels):\n",
    "    predictions = model(images, training=False)\n",
    "    t_loss = loss_object(labels, predictions)\n",
    "    \n",
    "    test_loss(t_loss)\n",
    "    test_accuracy(labels, predictions)\n"
   ]
  },
  {
   "cell_type": "code",
   "execution_count": 7,
   "id": "ad28b6fe",
   "metadata": {},
   "outputs": [],
   "source": [
    "EPOCHS = 50\n",
    "BATCH_SIZE = 128"
   ]
  },
  {
   "cell_type": "code",
   "execution_count": 8,
   "id": "e32a378e",
   "metadata": {
    "scrolled": false
   },
   "outputs": [
    {
     "name": "stdout",
     "output_type": "stream",
     "text": [
      "Epoch 1, Loss: 0.4424000084400177, Accuracy: 87.5867, Test Loss: 0.2370000034570694, Test Accuracy: 93.08\n",
      "Epoch 2, Loss: 0.19930000603199005, Accuracy: 94.22, Test Loss: 0.17960000038146973, Test Accuracy: 94.6\n",
      "Epoch 3, Loss: 0.15240000188350677, Accuracy: 95.505, Test Loss: 0.15929999947547913, Test Accuracy: 95.15\n",
      "Epoch 4, Loss: 0.1234000027179718, Accuracy: 96.3133, Test Loss: 0.14659999310970306, Test Accuracy: 95.59\n",
      "Epoch 5, Loss: 0.10289999842643738, Accuracy: 96.9383, Test Loss: 0.1387999951839447, Test Accuracy: 95.82\n",
      "Epoch 6, Loss: 0.08789999783039093, Accuracy: 97.3967, Test Loss: 0.12939999997615814, Test Accuracy: 96.04\n",
      "Epoch 7, Loss: 0.07599999755620956, Accuracy: 97.76, Test Loss: 0.12399999797344208, Test Accuracy: 96.19\n",
      "Epoch 8, Loss: 0.066600002348423, Accuracy: 98.04, Test Loss: 0.11919999867677689, Test Accuracy: 96.3\n",
      "Epoch 9, Loss: 0.05860000103712082, Accuracy: 98.26, Test Loss: 0.11309999972581863, Test Accuracy: 96.53\n",
      "Epoch 10, Loss: 0.051899999380111694, Accuracy: 98.52, Test Loss: 0.1096000000834465, Test Accuracy: 96.83\n",
      "Epoch 11, Loss: 0.04600000008940697, Accuracy: 98.7033, Test Loss: 0.10899999737739563, Test Accuracy: 96.92\n",
      "Epoch 12, Loss: 0.04039999842643738, Accuracy: 98.91, Test Loss: 0.10859999805688858, Test Accuracy: 96.95\n",
      "Epoch 13, Loss: 0.035599999129772186, Accuracy: 99.055, Test Loss: 0.10920000076293945, Test Accuracy: 97.07\n",
      "Epoch 14, Loss: 0.031099999323487282, Accuracy: 99.1617, Test Loss: 0.10989999771118164, Test Accuracy: 97.03\n",
      "Epoch 15, Loss: 0.0272000003606081, Accuracy: 99.2917, Test Loss: 0.11490000039339066, Test Accuracy: 97.0\n",
      "Epoch 16, Loss: 0.024399999529123306, Accuracy: 99.4033, Test Loss: 0.12110000103712082, Test Accuracy: 96.93\n",
      "Epoch 17, Loss: 0.02239999920129776, Accuracy: 99.4517, Test Loss: 0.11729999631643295, Test Accuracy: 96.99\n",
      "Epoch 18, Loss: 0.020099999383091927, Accuracy: 99.4983, Test Loss: 0.11460000276565552, Test Accuracy: 97.1\n",
      "Epoch 19, Loss: 0.018400000408291817, Accuracy: 99.545, Test Loss: 0.1256999969482422, Test Accuracy: 96.9\n",
      "Epoch 20, Loss: 0.015799999237060547, Accuracy: 99.5983, Test Loss: 0.13609999418258667, Test Accuracy: 96.8\n",
      "Epoch 21, Loss: 0.014499999582767487, Accuracy: 99.6283, Test Loss: 0.12870000302791595, Test Accuracy: 97.07\n",
      "Epoch 22, Loss: 0.015200000256299973, Accuracy: 99.5967, Test Loss: 0.13920000195503235, Test Accuracy: 96.86\n",
      "Epoch 23, Loss: 0.014299999922513962, Accuracy: 99.5667, Test Loss: 0.14319999516010284, Test Accuracy: 96.87\n",
      "Epoch 24, Loss: 0.013299999758601189, Accuracy: 99.6017, Test Loss: 0.14800000190734863, Test Accuracy: 96.91\n",
      "Epoch 25, Loss: 0.012000000104308128, Accuracy: 99.6133, Test Loss: 0.13650000095367432, Test Accuracy: 97.32\n",
      "Epoch 26, Loss: 0.00989999994635582, Accuracy: 99.725, Test Loss: 0.13930000364780426, Test Accuracy: 97.15\n",
      "Epoch 27, Loss: 0.012900000438094139, Accuracy: 99.5983, Test Loss: 0.1459999978542328, Test Accuracy: 97.1\n",
      "Epoch 28, Loss: 0.009200000204145908, Accuracy: 99.7133, Test Loss: 0.13670000433921814, Test Accuracy: 97.3\n",
      "Epoch 29, Loss: 0.010499999858438969, Accuracy: 99.67, Test Loss: 0.1395999938249588, Test Accuracy: 97.29\n",
      "Epoch 30, Loss: 0.00800000037997961, Accuracy: 99.7467, Test Loss: 0.14239999651908875, Test Accuracy: 97.18\n",
      "Epoch 31, Loss: 0.007499999832361937, Accuracy: 99.775, Test Loss: 0.14659999310970306, Test Accuracy: 97.25\n",
      "Epoch 32, Loss: 0.0071000000461936, Accuracy: 99.7817, Test Loss: 0.14980000257492065, Test Accuracy: 97.22\n",
      "Epoch 33, Loss: 0.012500000186264515, Accuracy: 99.6017, Test Loss: 0.15940000116825104, Test Accuracy: 97.0\n",
      "Epoch 34, Loss: 0.008299999870359898, Accuracy: 99.7283, Test Loss: 0.16030000150203705, Test Accuracy: 97.27\n",
      "Epoch 35, Loss: 0.00559999980032444, Accuracy: 99.8483, Test Loss: 0.15289999544620514, Test Accuracy: 97.31\n",
      "Epoch 36, Loss: 0.004900000058114529, Accuracy: 99.8717, Test Loss: 0.15230000019073486, Test Accuracy: 97.44\n",
      "Epoch 37, Loss: 0.004699999932199717, Accuracy: 99.8617, Test Loss: 0.1623000055551529, Test Accuracy: 97.17\n",
      "Epoch 38, Loss: 0.005100000184029341, Accuracy: 99.835, Test Loss: 0.17260000109672546, Test Accuracy: 97.12\n",
      "Epoch 39, Loss: 0.008899999782443047, Accuracy: 99.6883, Test Loss: 0.16459999978542328, Test Accuracy: 97.42\n",
      "Epoch 40, Loss: 0.004600000102072954, Accuracy: 99.8517, Test Loss: 0.16429999470710754, Test Accuracy: 97.39\n",
      "Epoch 41, Loss: 0.005100000184029341, Accuracy: 99.8383, Test Loss: 0.17479999363422394, Test Accuracy: 97.15\n",
      "Epoch 42, Loss: 0.007899999618530273, Accuracy: 99.7417, Test Loss: 0.1581999957561493, Test Accuracy: 97.29\n",
      "Epoch 43, Loss: 0.005200000014156103, Accuracy: 99.8483, Test Loss: 0.17249999940395355, Test Accuracy: 97.23\n",
      "Epoch 44, Loss: 0.0044999998062849045, Accuracy: 99.8567, Test Loss: 0.18060000240802765, Test Accuracy: 97.29\n",
      "Epoch 45, Loss: 0.003100000089034438, Accuracy: 99.925, Test Loss: 0.19179999828338623, Test Accuracy: 97.17\n",
      "Epoch 46, Loss: 0.0052999998442828655, Accuracy: 99.8283, Test Loss: 0.17299999296665192, Test Accuracy: 97.47\n",
      "Epoch 47, Loss: 0.005900000222027302, Accuracy: 99.79, Test Loss: 0.18870000541210175, Test Accuracy: 97.24\n",
      "Epoch 48, Loss: 0.0044999998062849045, Accuracy: 99.8383, Test Loss: 0.17640000581741333, Test Accuracy: 97.33\n",
      "Epoch 49, Loss: 0.003700000001117587, Accuracy: 99.8817, Test Loss: 0.17640000581741333, Test Accuracy: 97.35\n",
      "Epoch 50, Loss: 0.004600000102072954, Accuracy: 99.84, Test Loss: 0.1875, Test Accuracy: 97.32\n"
     ]
    }
   ],
   "source": [
    "\n",
    "for epoch in range(EPOCHS):\n",
    "    # Reset the metrics at the start of the next epoch\n",
    "    train_loss.reset_states()\n",
    "    train_accuracy.reset_states()\n",
    "    test_loss.reset_states()\n",
    "    test_accuracy.reset_states()\n",
    "    \n",
    "    for i in range(0, len(x_train), BATCH_SIZE):\n",
    "        train_step(x_train[i:i+BATCH_SIZE], y_train[i:i+BATCH_SIZE])\n",
    "    \n",
    "    for i in range(0, len(x_test), BATCH_SIZE):\n",
    "        test_step(x_test, y_test)\n",
    "    \n",
    "    print(\n",
    "        f'Epoch {epoch + 1}, '\n",
    "        f'Loss: {round(train_loss.result().numpy(), 4)}, '\n",
    "        f'Accuracy: {round(train_accuracy.result().numpy() * 100, 4)}, '\n",
    "        f'Test Loss: {round(test_loss.result().numpy(), 4)}, '\n",
    "        f'Test Accuracy: {round(test_accuracy.result().numpy() * 100, 4)}'\n",
    "    )\n"
   ]
  },
  {
   "cell_type": "code",
   "execution_count": null,
   "id": "801fa42f",
   "metadata": {},
   "outputs": [],
   "source": []
  }
 ],
 "metadata": {
  "kernelspec": {
   "display_name": "Python 3 (ipykernel)",
   "language": "python",
   "name": "python3"
  },
  "language_info": {
   "codemirror_mode": {
    "name": "ipython",
    "version": 3
   },
   "file_extension": ".py",
   "mimetype": "text/x-python",
   "name": "python",
   "nbconvert_exporter": "python",
   "pygments_lexer": "ipython3",
   "version": "3.8.10"
  }
 },
 "nbformat": 4,
 "nbformat_minor": 5
}
